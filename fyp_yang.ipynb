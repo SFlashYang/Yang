{
 "cells": [
  {
   "cell_type": "code",
   "execution_count": 54,
   "metadata": {},
   "outputs": [],
   "source": [
    "import numpy as np"
   ]
  },
  {
   "cell_type": "code",
   "execution_count": 55,
   "metadata": {},
   "outputs": [],
   "source": [
    "import matplotlib.pyplot as plt"
   ]
  },
  {
   "cell_type": "code",
   "execution_count": 56,
   "metadata": {},
   "outputs": [],
   "source": [
    "from ccdc.io import MoleculeReader"
   ]
  },
  {
   "cell_type": "code",
   "execution_count": 114,
   "metadata": {},
   "outputs": [],
   "source": [
    "import ATLK"
   ]
  },
  {
   "cell_type": "code",
   "execution_count": 58,
   "metadata": {},
   "outputs": [],
   "source": [
    "import math"
   ]
  },
  {
   "cell_type": "code",
   "execution_count": 59,
   "metadata": {},
   "outputs": [],
   "source": [
    "from ccdc import crystal"
   ]
  },
  {
   "cell_type": "code",
   "execution_count": 60,
   "metadata": {},
   "outputs": [],
   "source": [
    "from ccdc import io"
   ]
  },
  {
   "cell_type": "code",
   "execution_count": 61,
   "metadata": {},
   "outputs": [],
   "source": [
    "from ccdc import utilities"
   ]
  },
  {
   "cell_type": "code",
   "execution_count": 62,
   "metadata": {},
   "outputs": [],
   "source": [
    "def distance(a,b):\n",
    "    \"\"\"\n",
    "    calculate distance between two atoms\n",
    "    \"\"\"\n",
    "    x = a.coordinates.x-b.coordinates.x\n",
    "    y = a.coordinates.y-b.coordinates.y\n",
    "    z = a.coordinates.z-b.coordinates.z\n",
    "    distance = np.linalg.norm((x,y,z))\n",
    "    return round(distance,10)"
   ]
  },
  {
   "cell_type": "code",
   "execution_count": 63,
   "metadata": {},
   "outputs": [],
   "source": [
    "def getSegments(crystal,limit,l_left,u_right):\n",
    "    \"\"\"\n",
    "    crystal: crystal to be analyzed\n",
    "    limit: the linit of the distance between atoms\n",
    "    l_left: lower ledt coordinate of the packed cells\n",
    "    u_right: upper right coordinate of the packed cells\n",
    "    \"\"\"\n",
    "    #Pack the molecules together\n",
    "    packed = crystal.packing(((l_left),(u_right)),\n",
    "                             'Centroidincluded')\n",
    "    #Get the atoms of this packed molecule \n",
    "    atoms = packed.atoms\n",
    "    nums = len(atoms)\n",
    "    segments = np.empty((0,2,3))\n",
    "    for i in range(nums):\n",
    "        atom1 = atoms[i]\n",
    "        for  j in range(i+1,nums):\n",
    "            atom2 = atoms[j]\n",
    "            start = np.array(atom1.coordinates[0:3])\n",
    "            end = np.array(atom2.coordinates[0:3])\n",
    "            for i in range(3):\n",
    "                start[i] = round(start[i],6)\n",
    "                end[i] = round(end[i],6)\n",
    "            #check if the distacne is less than the limit\n",
    "            if(distance(atom1,atom2)<=limit):\n",
    "                segments = np.concatenate((segments,np.array([[start,end]])),axis=0)\n",
    "    return segments       "
   ]
  },
  {
   "cell_type": "code",
   "execution_count": 64,
   "metadata": {},
   "outputs": [],
   "source": [
    "def periodicSegments(atoms,atom1,atom2):\n",
    "    label_1 = atom1.label\n",
    "    label_2 = atom2.label\n",
    "    dis = distance(atom1,atom2)\n",
    "    atoms_1 = []\n",
    "    atoms_2 = []\n",
    "    periodic_seg = np.empty((0,2,3))\n",
    "    for atom in atoms:\n",
    "        if (atom.label==label_1):\n",
    "                atoms_1.append(atom)  \n",
    "        if(atom.label == label_2):\n",
    "                atoms_2.append(atom)\n",
    "    for i in range(len(atoms_1)):\n",
    "        if(distance(atoms_1[i],atoms_2[i])==dis):\n",
    "            start = np.array(atoms_1[i].coordinates[0:3])\n",
    "            end = np.array(atoms_2[i].coordinates[0:3])\n",
    "            periodic_seg= np.concatenate((periodic_seg,np.array([[start,end]])),axis=0)\n",
    "    return atoms_1,atoms_2,periodic_seg"
   ]
  },
  {
   "cell_type": "code",
   "execution_count": 411,
   "metadata": {},
   "outputs": [],
   "source": [
    "def periodicSegments_cell(crystal,segment,a,b,c):\n",
    "    \"\"\"\n",
    "    crystal:crystal to be analyzed\n",
    "    segment: basic segment\n",
    "    a,b,c: the upper-right coordinate of the packed cells\n",
    "    \"\"\"\n",
    "    segments = np.ones([a*b*c,2,3])\n",
    "    vectors = getVectors(crystal)\n",
    "    t = 0\n",
    "    for i in range(a):\n",
    "        for j in range(b):\n",
    "            for k in range(c):\n",
    "                #The start of the periodic copy in [i,j,k] cell\n",
    "                segments[t][0] = segment[0]+vectors[0]*i+vectors[1]*j+vectors[2]*k\n",
    "                #The end of the periodic copy in [i,j,k] cell\n",
    "                segments[t][1] = segment[1]+vectors[0]*i+vectors[1]*j+vectors[2]*k\n",
    "                t = t+1\n",
    "    return segments"
   ]
  },
  {
   "cell_type": "code",
   "execution_count": 66,
   "metadata": {},
   "outputs": [],
   "source": [
    "def inside_test(points , cube3d):\n",
    "    \"\"\"\n",
    "    cube3d  =  numpy array of the shape (8,3) with coordinates in the clockwise order. first the bottom plane is considered then the top one.\n",
    "    points = array of points with shape (N, 3).\n",
    "\n",
    "    Returns the indices of the points array which are outside the cube3d\n",
    "    \"\"\"\n",
    "    b1,b2,b3,b4,t1,t2,t3,t4 = cube3d\n",
    "\n",
    "    dir1 = (t1-b1)\n",
    "    size1 = np.linalg.norm(dir1)\n",
    "    dir1 = dir1 / size1\n",
    "\n",
    "    dir2 = (b2-b1)\n",
    "    size2 = np.linalg.norm(dir2)\n",
    "    dir2 = dir2 / size2\n",
    "\n",
    "    dir3 = (b4-b1)\n",
    "    size3 = np.linalg.norm(dir3)\n",
    "    dir3 = dir3 / size3\n",
    "\n",
    "    cube3d_center = (b1 + t3)/2.0\n",
    "\n",
    "    dir_vec = points - cube3d_center\n",
    "\n",
    "    res1 = np.where( (np.absolute(np.dot(dir_vec, dir1)) * 2) > size1 )[0]\n",
    "    res2 = np.where( (np.absolute(np.dot(dir_vec, dir2)) * 2) > size2 )[0]\n",
    "    res3 = np.where( (np.absolute(np.dot(dir_vec, dir3)) * 2) > size3 )[0]\n",
    "\n",
    "    return list( set().union(res1, res2, res3) )"
   ]
  },
  {
   "cell_type": "code",
   "execution_count": 67,
   "metadata": {},
   "outputs": [],
   "source": [
    "def getVectors(crystal):\n",
    "    \"\"\"\n",
    "    Parameter\n",
    "    ---------\n",
    "    Crystal: the crystal to be analyzed\n",
    "    --------\n",
    "    Return\n",
    "    This function will return vectors between relative atoms in its 3 directions \n",
    "    \"\"\"\n",
    "    packed_o = crystal.packing(((0,0,0),(1,1,1)),'Centroidincluded')\n",
    "    #The cell whose lower-left coordinate is (0,0,1)\n",
    "    packed_z = crystal.packing(((0,0,1),(1,1,2)),'Centroidincluded')\n",
    "    #The cell whose lower-left coordinate is (0,1,0)\n",
    "    packed_y = crystal.packing(((0,1,0),(1,2,1)),'Centroidincluded')\n",
    "    #The cell whose lower-left coordinate is (1,0,0)\n",
    "    packed_x = crystal.packing(((1,0,0),(2,1,1)),'Centroidincluded')\n",
    "    #vec_x is the unit vector in axis-x's direction\n",
    "    vec_x = np.array(packed_x.atoms[0].coordinates)-np.array(packed_o.atoms[0].coordinates)\n",
    "    #vec_y is the unit vector in axis-y's direction\n",
    "    vec_y = np.array(packed_y.atoms[0].coordinates)-np.array(packed_o.atoms[0].coordinates)\n",
    "    #vec_z is the unit vector in axis-z's direction\n",
    "    vec_z = np.array(packed_z.atoms[0].coordinates)-np.array(packed_o.atoms[0].coordinates)\n",
    "    for i in range(3):\n",
    "        vec_x[i]=round(vec_x[i],6)\n",
    "        vec_y[i]=round(vec_y[i],6)\n",
    "        vec_z[i]=round(vec_z[i],6)\n",
    "    return [vec_x,vec_y,vec_z]"
   ]
  },
  {
   "cell_type": "code",
   "execution_count": 68,
   "metadata": {},
   "outputs": [],
   "source": [
    "def getCoordinates(crystal,lower_left_point,):\n",
    "    \"\"\"\n",
    "    crystal:the crystal to be analyzed\n",
    "    lower_left_point: the lower-left point of unit cell\n",
    "    --------\n",
    "    Return the 8 coordiantes of the unit cell\n",
    "    \"\"\"\n",
    "    vectors = getVectors(crystal)\n",
    "    lower_left_point=np.dot(lower_left_point[0],vectors[0])+np.dot(lower_left_point[1],vectors[1])+np.dot(lower_left_point[2],vectors[2])\n",
    "    return(lower_left_point,lower_left_point+vectors[1],\n",
    "           lower_left_point+vectors[0],lower_left_point+vectors[0]+vectors[1],\n",
    "           lower_left_point+vectors[2],lower_left_point+vectors[2]+vectors[1],\n",
    "           lower_left_point+vectors[2]+vectors[0],lower_left_point+vectors[2]+vectors[0]+vectors[1])"
   ]
  },
  {
   "cell_type": "code",
   "execution_count": 389,
   "metadata": {},
   "outputs": [],
   "source": [
    "#[a1,a2,a3],[b1,b2,b3]\n",
    "#[c1,c1,c3],[d1,d2,d3]\n",
    "def check_cop(segment1,segment2):\n",
    "    \"\"\"\n",
    "    segment1 : shape is (1,2,3)\n",
    "    segment2 : shape (1,2,3)\n",
    "    Return 1 if they are coplanar or 0 if not coplannar\n",
    "    \"\"\"\n",
    "    a1, a2, a3 = segment1[0][0],segment1[0][1],segment1[0][2]\n",
    "    b1, b2, b3 = segment1[1][0],segment1[1][1],segment1[1][2]\n",
    "    c1, c2, c3 = segment2[0][0],segment2[0][1],segment2[0][2]\n",
    "    d1, d2, d3 = segment2[1][0],segment2[1][1],segment2[1][2]\n",
    "    if([b1-a1,b2-a2,b3-a3]==[d1-c1,d2-c2,d3-c3]or[b1-a1,b2-a2,b3-a3]==[c1-d1,c2-d2,c3-d3]):\n",
    "        return 1\n",
    "    else:\n",
    "        A=b1-a1\n",
    "        B=c1-d1\n",
    "        C=c1-a1\n",
    "        D=b2-a2\n",
    "        E=c2-d2\n",
    "        F=c2-a2\n",
    "        #find t and s using formula\n",
    "        t=(C*E-F*B)/(E*A-B*D)\n",
    "        s=(D*C-A*F)/(D*B-A*E)\n",
    "        #check if third equation is also satisfied(we have 3 equations and 2 variable\n",
    "        if ((t*(b3-a3)+s*(c3-d3))==c3-a3):\n",
    "            return 1\n",
    "        else:\n",
    "            return 0"
   ]
  },
  {
   "cell_type": "code",
   "execution_count": 72,
   "metadata": {},
   "outputs": [],
   "source": [
    "def inside_test(points , cube3d):\n",
    "    \"\"\"\n",
    "    cube3d  =  numpy array of the shape (8,3) with coordinates in the clockwise order. first the bottom plane is considered then the top one.\n",
    "    points = array of points with shape (N, 3).\n",
    "\n",
    "    Returns the indices of the points array which are outside the cube3d\n",
    "    \"\"\"\n",
    "    b1,b2,b3,b4,t1,t2,t3,t4 = cube3d\n",
    "\n",
    "    dir1 = (t1-b1)\n",
    "    size1 = np.linalg.norm(dir1)\n",
    "    dir1 = dir1 / size1\n",
    "\n",
    "    dir2 = (b2-b1)\n",
    "    size2 = np.linalg.norm(dir2)\n",
    "    dir2 = dir2 / size2\n",
    "\n",
    "    dir3 = (b4-b1)\n",
    "    size3 = np.linalg.norm(dir3)\n",
    "    dir3 = dir3 / size3\n",
    "\n",
    "    cube3d_center = (b1 + t3)/2.0\n",
    "\n",
    "    dir_vec = points - cube3d_center\n",
    "\n",
    "    res1 = np.where( (np.absolute(np.dot(dir_vec, dir1)) * 2) > size1 )[0]\n",
    "    res2 = np.where( (np.absolute(np.dot(dir_vec, dir2)) * 2) > size2 )[0]\n",
    "    res3 = np.where( (np.absolute(np.dot(dir_vec, dir3)) * 2) > size3 )[0]\n",
    "\n",
    "    return list( set().union(res1, res2, res3) )"
   ]
  },
  {
   "cell_type": "code",
   "execution_count": 133,
   "metadata": {},
   "outputs": [],
   "source": [
    "def periodic_lk(segment1,segments):\n",
    "    \"\"\"\n",
    "    This function will calculate the periodic linking number between segment1 and segments\n",
    "    segments: a. umpy array store the periodc copies of one segment\n",
    "    \"\"\"\n",
    "    simplink = 0 \n",
    "    pln = np.empty((1))\n",
    "    for segment in segments:\n",
    "        segp = ATLK.Segquad([segment1,segment])\n",
    "        #segp is segmente paie\n",
    "        simplink += segp.segatan()\n",
    "        #Linking number between segments\n",
    "        pln = np.concatenate((pln,np.array([simplink])),axis=0)\n",
    "    pln = pln[1:pln.shape[0]]\n",
    "    return pln"
   ]
  },
  {
   "cell_type": "code",
   "execution_count": 74,
   "metadata": {},
   "outputs": [],
   "source": [
    "def lk(segments):\n",
    "    \"\"\"\n",
    "    calculate the linking number between ant two segments in the segments numpy array\n",
    "    \"\"\"\n",
    "    num = segments.shape[0]\n",
    "    lk = np.empty((num,num))\n",
    "    for i in range(num):\n",
    "        for j in range (num):\n",
    "            if (check_cop(segments[i],segments[j])==0):\n",
    "                segp = ATLK.Segquad([segments[i],segments[j]]).segatan()\n",
    "                lk[i][j]=segp\n",
    "            else:\n",
    "                lk[i][j]=0\n",
    "    return lk"
   ]
  },
  {
   "cell_type": "code",
   "execution_count": 75,
   "metadata": {},
   "outputs": [],
   "source": [
    "def description(crystal):\n",
    "    csd = io.CrystalReader(crystal)\n",
    "    crystal_tri = csd[0]\n",
    "    print(crystal_tri.cell_angles)\n",
    "    print(crystal_tri.cell_lengths)\n",
    "    atoms = crystal_tri.molecule.atoms\n",
    "    print(\"The molecule of the crystal has\",len(atoms),\"atoms\")\n",
    "    for atom in atoms[0:5]:\n",
    "        print(atom.label,atom.coordinates)"
   ]
  },
  {
   "cell_type": "code",
   "execution_count": 76,
   "metadata": {},
   "outputs": [
    {
     "name": "stdout",
     "output_type": "stream",
     "text": [
      "CellAngles(alpha=105.87, beta=97.74, gamma=106.317)\n",
      "CellLengths(a=7.6996, b=8.838, c=12.197)\n",
      "The molecule of the crystal has 59 atoms\n",
      "Al1 Coordinates(x=4.790, y=1.038, z=-0.453)\n",
      "F1 Coordinates(x=3.459, y=0.719, z=0.844)\n",
      "F2 Coordinates(x=3.590, y=1.663, z=-1.569)\n",
      "F3 Coordinates(x=6.039, y=1.084, z=-1.726)\n",
      "F4 Coordinates(x=5.202, y=2.643, z=0.198)\n"
     ]
    }
   ],
   "source": [
    "description(\"1100119.cif\")"
   ]
  },
  {
   "cell_type": "code",
   "execution_count": 77,
   "metadata": {},
   "outputs": [],
   "source": [
    "csd = io.CrystalReader(\"1100119.cif\")\n",
    "crystal_tri = csd[0]"
   ]
  },
  {
   "cell_type": "code",
   "execution_count": 390,
   "metadata": {},
   "outputs": [],
   "source": [
    "#crystal is the crystal to be analyzed\n",
    "#3 is the distance lmit\n",
    "#(0,0,0) and (1,1,1) means that we select the first unit cell\n",
    "segments = getSegments(crystal_tri,3,(0,0,0),(1,1,1))"
   ]
  },
  {
   "cell_type": "code",
   "execution_count": 391,
   "metadata": {},
   "outputs": [
    {
     "name": "stdout",
     "output_type": "stream",
     "text": [
      "[[[ 4.789755  1.03801  -0.453147]\n",
      "  [ 3.458856  0.719299  0.844397]]\n",
      "\n",
      " [[ 4.789755  1.03801  -0.453147]\n",
      "  [ 3.589838  1.662648 -1.569454]]\n",
      "\n",
      " [[ 4.789755  1.03801  -0.453147]\n",
      "  [ 6.039389  1.08358  -1.725908]]\n",
      "\n",
      " [[ 4.789755  1.03801  -0.453147]\n",
      "  [ 5.202017  2.642921  0.197566]]\n",
      "\n",
      " [[ 4.789755  1.03801  -0.453147]\n",
      "  [ 6.007997  0.369964  0.689541]]]\n"
     ]
    }
   ],
   "source": [
    "print(segments[0:5])"
   ]
  },
  {
   "cell_type": "code",
   "execution_count": 392,
   "metadata": {},
   "outputs": [
    {
     "data": {
      "text/plain": [
       "array([[0.        , 0.        , 0.07441132],\n",
       "       [0.        , 0.        , 0.0758642 ],\n",
       "       [0.07441132, 0.0758642 , 0.        ]])"
      ]
     },
     "execution_count": 392,
     "metadata": {},
     "output_type": "execute_result"
    }
   ],
   "source": [
    "lk_matrix = lk(segments[100:103])\n",
    "lk_matrix"
   ]
  },
  {
   "cell_type": "code",
   "execution_count": 393,
   "metadata": {},
   "outputs": [
    {
     "data": {
      "text/plain": [
       "[array([7.6996, 0.    , 0.    ]),\n",
       " array([-2.483049,  8.482023,  0.      ]),\n",
       " array([-1.642667, -3.956196, 11.420025])]"
      ]
     },
     "execution_count": 393,
     "metadata": {},
     "output_type": "execute_result"
    }
   ],
   "source": [
    "#vectors needs to find the copies of one segment\n",
    "getVectors(crystal_tri)"
   ]
  },
  {
   "cell_type": "code",
   "execution_count": 442,
   "metadata": {},
   "outputs": [],
   "source": [
    "#Find the periodic copies of segments[3] in 3d-space composed by 8 unit cells\n",
    "periodic_segments = periodicSegments_cell(crystal_tri,segments[0],2,2,2)"
   ]
  },
  {
   "cell_type": "code",
   "execution_count": 463,
   "metadata": {},
   "outputs": [
    {
     "data": {
      "text/plain": [
       "array([[[ 4.789755,  1.03801 , -0.453147],\n",
       "        [ 3.458856,  0.719299,  0.844397]],\n",
       "\n",
       "       [[ 3.147088, -2.918186, 10.966878],\n",
       "        [ 1.816189, -3.236897, 12.264422]],\n",
       "\n",
       "       [[ 2.306706,  9.520033, -0.453147],\n",
       "        [ 0.975807,  9.201322,  0.844397]],\n",
       "\n",
       "       [[ 0.664039,  5.563837, 10.966878],\n",
       "        [-0.66686 ,  5.245126, 12.264422]],\n",
       "\n",
       "       [[12.489355,  1.03801 , -0.453147],\n",
       "        [11.158456,  0.719299,  0.844397]],\n",
       "\n",
       "       [[10.846688, -2.918186, 10.966878],\n",
       "        [ 9.515789, -3.236897, 12.264422]],\n",
       "\n",
       "       [[10.006306,  9.520033, -0.453147],\n",
       "        [ 8.675407,  9.201322,  0.844397]],\n",
       "\n",
       "       [[ 8.363639,  5.563837, 10.966878],\n",
       "        [ 7.03274 ,  5.245126, 12.264422]]])"
      ]
     },
     "execution_count": 463,
     "metadata": {},
     "output_type": "execute_result"
    }
   ],
   "source": [
    "periodic_segments"
   ]
  },
  {
   "cell_type": "code",
   "execution_count": 445,
   "metadata": {},
   "outputs": [
    {
     "name": "stdout",
     "output_type": "stream",
     "text": [
      "[-1.330899 -0.318711  1.297544]\n",
      "[-1.330899 -0.318711  1.297544]\n",
      "[-1.330899 -0.318711  1.297544]\n",
      "[-1.330899 -0.318711  1.297544]\n",
      "[-1.330899 -0.318711  1.297544]\n",
      "[-1.330899 -0.318711  1.297544]\n",
      "[-1.330899 -0.318711  1.297544]\n",
      "[-1.330899 -0.318711  1.297544]\n"
     ]
    }
   ],
   "source": [
    "for segment in periodic_segments:\n",
    "    print(segment[1]-segment[0])"
   ]
  },
  {
   "cell_type": "code",
   "execution_count": 465,
   "metadata": {},
   "outputs": [
    {
     "name": "stdout",
     "output_type": "stream",
     "text": [
      "[[0. 0. 0.]\n",
      " [0. 0. 0.]]\n",
      "[[  1.642667   3.956196 -11.420025]\n",
      " [  1.642667   3.956196 -11.420025]]\n",
      "[[ 2.483049 -8.482023  0.      ]\n",
      " [ 2.483049 -8.482023  0.      ]]\n",
      "[[  4.125716  -4.525827 -11.420025]\n",
      " [  4.125716  -4.525827 -11.420025]]\n",
      "[[-7.6996  0.      0.    ]\n",
      " [-7.6996  0.      0.    ]]\n",
      "[[ -6.056933   3.956196 -11.420025]\n",
      " [ -6.056933   3.956196 -11.420025]]\n",
      "[[-5.216551 -8.482023  0.      ]\n",
      " [-5.216551 -8.482023  0.      ]]\n",
      "[[ -3.573884  -4.525827 -11.420025]\n",
      " [ -3.573884  -4.525827 -11.420025]]\n",
      "[[-1.642667 -3.956196 11.420025]\n",
      " [-1.642667 -3.956196 11.420025]]\n",
      "[[0. 0. 0.]\n",
      " [0. 0. 0.]]\n",
      "[[  0.840382 -12.438219  11.420025]\n",
      " [  0.840382 -12.438219  11.420025]]\n",
      "[[ 2.483049 -8.482023  0.      ]\n",
      " [ 2.483049 -8.482023  0.      ]]\n",
      "[[-9.342267 -3.956196 11.420025]\n",
      " [-9.342267 -3.956196 11.420025]]\n",
      "[[-7.6996  0.      0.    ]\n",
      " [-7.6996  0.      0.    ]]\n",
      "[[ -6.859218 -12.438219  11.420025]\n",
      " [ -6.859218 -12.438219  11.420025]]\n",
      "[[-5.216551 -8.482023  0.      ]\n",
      " [-5.216551 -8.482023  0.      ]]\n",
      "[[-2.483049  8.482023  0.      ]\n",
      " [-2.483049  8.482023  0.      ]]\n",
      "[[ -0.840382  12.438219 -11.420025]\n",
      " [ -0.840382  12.438219 -11.420025]]\n",
      "[[0. 0. 0.]\n",
      " [0. 0. 0.]]\n",
      "[[  1.642667   3.956196 -11.420025]\n",
      " [  1.642667   3.956196 -11.420025]]\n",
      "[[-10.182649   8.482023   0.      ]\n",
      " [-10.182649   8.482023   0.      ]]\n",
      "[[ -8.539982  12.438219 -11.420025]\n",
      " [ -8.539982  12.438219 -11.420025]]\n",
      "[[-7.6996  0.      0.    ]\n",
      " [-7.6996  0.      0.    ]]\n",
      "[[ -6.056933   3.956196 -11.420025]\n",
      " [ -6.056933   3.956196 -11.420025]]\n",
      "[[-4.125716  4.525827 11.420025]\n",
      " [-4.125716  4.525827 11.420025]]\n",
      "[[-2.483049  8.482023  0.      ]\n",
      " [-2.483049  8.482023  0.      ]]\n",
      "[[-1.642667 -3.956196 11.420025]\n",
      " [-1.642667 -3.956196 11.420025]]\n",
      "[[0. 0. 0.]\n",
      " [0. 0. 0.]]\n",
      "[[-11.825316   4.525827  11.420025]\n",
      " [-11.825316   4.525827  11.420025]]\n",
      "[[-10.182649   8.482023   0.      ]\n",
      " [-10.182649   8.482023   0.      ]]\n",
      "[[-9.342267 -3.956196 11.420025]\n",
      " [-9.342267 -3.956196 11.420025]]\n",
      "[[-7.6996  0.      0.    ]\n",
      " [-7.6996  0.      0.    ]]\n",
      "[[7.6996 0.     0.    ]\n",
      " [7.6996 0.     0.    ]]\n",
      "[[  9.342267   3.956196 -11.420025]\n",
      " [  9.342267   3.956196 -11.420025]]\n",
      "[[10.182649 -8.482023  0.      ]\n",
      " [10.182649 -8.482023  0.      ]]\n",
      "[[ 11.825316  -4.525827 -11.420025]\n",
      " [ 11.825316  -4.525827 -11.420025]]\n",
      "[[0. 0. 0.]\n",
      " [0. 0. 0.]]\n",
      "[[  1.642667   3.956196 -11.420025]\n",
      " [  1.642667   3.956196 -11.420025]]\n",
      "[[ 2.483049 -8.482023  0.      ]\n",
      " [ 2.483049 -8.482023  0.      ]]\n",
      "[[  4.125716  -4.525827 -11.420025]\n",
      " [  4.125716  -4.525827 -11.420025]]\n",
      "[[ 6.056933 -3.956196 11.420025]\n",
      " [ 6.056933 -3.956196 11.420025]]\n",
      "[[7.6996 0.     0.    ]\n",
      " [7.6996 0.     0.    ]]\n",
      "[[  8.539982 -12.438219  11.420025]\n",
      " [  8.539982 -12.438219  11.420025]]\n",
      "[[10.182649 -8.482023  0.      ]\n",
      " [10.182649 -8.482023  0.      ]]\n",
      "[[-1.642667 -3.956196 11.420025]\n",
      " [-1.642667 -3.956196 11.420025]]\n",
      "[[0. 0. 0.]\n",
      " [0. 0. 0.]]\n",
      "[[  0.840382 -12.438219  11.420025]\n",
      " [  0.840382 -12.438219  11.420025]]\n",
      "[[ 2.483049 -8.482023  0.      ]\n",
      " [ 2.483049 -8.482023  0.      ]]\n",
      "[[5.216551 8.482023 0.      ]\n",
      " [5.216551 8.482023 0.      ]]\n",
      "[[  6.859218  12.438219 -11.420025]\n",
      " [  6.859218  12.438219 -11.420025]]\n",
      "[[7.6996 0.     0.    ]\n",
      " [7.6996 0.     0.    ]]\n",
      "[[  9.342267   3.956196 -11.420025]\n",
      " [  9.342267   3.956196 -11.420025]]\n",
      "[[-2.483049  8.482023  0.      ]\n",
      " [-2.483049  8.482023  0.      ]]\n",
      "[[ -0.840382  12.438219 -11.420025]\n",
      " [ -0.840382  12.438219 -11.420025]]\n",
      "[[0. 0. 0.]\n",
      " [0. 0. 0.]]\n",
      "[[  1.642667   3.956196 -11.420025]\n",
      " [  1.642667   3.956196 -11.420025]]\n",
      "[[ 3.573884  4.525827 11.420025]\n",
      " [ 3.573884  4.525827 11.420025]]\n",
      "[[5.216551 8.482023 0.      ]\n",
      " [5.216551 8.482023 0.      ]]\n",
      "[[ 6.056933 -3.956196 11.420025]\n",
      " [ 6.056933 -3.956196 11.420025]]\n",
      "[[7.6996 0.     0.    ]\n",
      " [7.6996 0.     0.    ]]\n",
      "[[-4.125716  4.525827 11.420025]\n",
      " [-4.125716  4.525827 11.420025]]\n",
      "[[-2.483049  8.482023  0.      ]\n",
      " [-2.483049  8.482023  0.      ]]\n",
      "[[-1.642667 -3.956196 11.420025]\n",
      " [-1.642667 -3.956196 11.420025]]\n",
      "[[0. 0. 0.]\n",
      " [0. 0. 0.]]\n"
     ]
    }
   ],
   "source": [
    "for i in range(8):\n",
    "    for j in range(8):\n",
    "        print(periodic_segments[i]-periodic_segments[j])"
   ]
  },
  {
   "cell_type": "code",
   "execution_count": null,
   "metadata": {},
   "outputs": [],
   "source": []
  },
  {
   "cell_type": "code",
   "execution_count": 397,
   "metadata": {},
   "outputs": [
    {
     "data": {
      "text/plain": [
       "[<matplotlib.lines.Line2D at 0x1369a3510>]"
      ]
     },
     "execution_count": 397,
     "metadata": {},
     "output_type": "execute_result"
    },
    {
     "data": {
      "image/png": "[encoded data removed]",
      "text/plain": [
       "<Figure size 432x288 with 4 Axes>"
      ]
     },
     "metadata": {
      "needs_background": "light"
     },
     "output_type": "display_data"
    }
   ],
   "source": [
    "ax1 = plt.subplot(2,2,1)\n",
    "#plot the curve at position 1\n",
    "periodic_segments = periodicSegments_cell(crystal_tri,segments[6],10,1,10)\n",
    "#Get the periodic segments of segments[6] in space (10,1,10)\n",
    "pln = periodic_lk(segments[1],periodic_segments)\n",
    "#Calculate the pln between segments[1] and segments[6] and store the\n",
    "#result in pln\n",
    "plt.plot(pln,'g')\n",
    "#plot the curve in green\n",
    "ax2 = plt.subplot(2,2,2)\n",
    "periodic_segments = periodicSegments_cell(crystal_tri,segments[6],10,10,1)\n",
    "#Get the periodic segments of segments[6] in space (10,1,10)\n",
    "pln = periodic_lk(segments[1],periodic_segments)\n",
    "plt.plot(pln,'r')\n",
    "ax3 = plt.subplot(2,2,3)\n",
    "periodic_segments = periodicSegments_cell(crystal_tri,segments[6],1,10,10)\n",
    "#Get the periodic segments of segments[6] in space (1,10,10)\n",
    "pln = periodic_lk(segments[1],periodic_segments)\n",
    "plt.plot(pln,'b')\n",
    "ax4 = plt.subplot(2,2,4)\n",
    "periodic_segments = periodicSegments_cell(crystal_tri,segments[6],20,20,1)\n",
    "#Get the periodic segments of segments[6] in space (20,20,1)\n",
    "pln = periodic_lk(segments[1],periodic_segments)\n",
    "plt.plot(pln,'y')"
   ]
  },
  {
   "cell_type": "code",
   "execution_count": 474,
   "metadata": {},
   "outputs": [],
   "source": [
    "periodic_segments = \\\n",
    "periodicSegments_cell(\\\n",
    "    crystal_tri,segments[1],2,2,2)"
   ]
  },
  {
   "cell_type": "code",
   "execution_count": 475,
   "metadata": {},
   "outputs": [
    {
     "data": {
      "text/plain": [
       "array([[[ 4.789755,  1.03801 , -0.453147],\n",
       "        [ 3.589838,  1.662648, -1.569454]],\n",
       "\n",
       "       [[ 3.147088, -2.918186, 10.966878],\n",
       "        [ 1.947171, -2.293548,  9.850571]],\n",
       "\n",
       "       [[ 2.306706,  9.520033, -0.453147],\n",
       "        [ 1.106789, 10.144671, -1.569454]],\n",
       "\n",
       "       [[ 0.664039,  5.563837, 10.966878],\n",
       "        [-0.535878,  6.188475,  9.850571]],\n",
       "\n",
       "       [[12.489355,  1.03801 , -0.453147],\n",
       "        [11.289438,  1.662648, -1.569454]],\n",
       "\n",
       "       [[10.846688, -2.918186, 10.966878],\n",
       "        [ 9.646771, -2.293548,  9.850571]],\n",
       "\n",
       "       [[10.006306,  9.520033, -0.453147],\n",
       "        [ 8.806389, 10.144671, -1.569454]],\n",
       "\n",
       "       [[ 8.363639,  5.563837, 10.966878],\n",
       "        [ 7.163722,  6.188475,  9.850571]]])"
      ]
     },
     "execution_count": 475,
     "metadata": {},
     "output_type": "execute_result"
    }
   ],
   "source": [
    "periodic_segments"
   ]
  },
  {
   "cell_type": "code",
   "execution_count": 467,
   "metadata": {},
   "outputs": [
    {
     "name": "stdout",
     "output_type": "stream",
     "text": [
      "[-1.330899 -0.318711  1.297544]\n",
      "[-1.330899 -0.318711  1.297544]\n",
      "[-1.330899 -0.318711  1.297544]\n",
      "[-1.330899 -0.318711  1.297544]\n",
      "[-1.330899 -0.318711  1.297544]\n",
      "[-1.330899 -0.318711  1.297544]\n",
      "[-1.330899 -0.318711  1.297544]\n",
      "[-1.330899 -0.318711  1.297544]\n"
     ]
    }
   ],
   "source": [
    "for segment in periodic_segments:\n",
    "    print(segment[1]-segment[0])"
   ]
  },
  {
   "cell_type": "code",
   "execution_count": null,
   "metadata": {},
   "outputs": [],
   "source": []
  },
  {
   "cell_type": "code",
   "execution_count": 237,
   "metadata": {},
   "outputs": [
    {
     "ename": "ValueError",
     "evalue": "cannot reshape array of size 600 into shape (800,3)",
     "output_type": "error",
     "traceback": [
      "\u001b[0;31m---------------------------------------------------------------------------\u001b[0m",
      "\u001b[0;31mValueError\u001b[0m                                Traceback (most recent call last)",
      "\u001b[0;32m<ipython-input-237-33df78a6eede>\u001b[0m in \u001b[0;36m<module>\u001b[0;34m\u001b[0m\n\u001b[0;32m----> 1\u001b[0;31m \u001b[0mperiodic_segments_1\u001b[0m \u001b[0;34m=\u001b[0m \u001b[0mperiodic_segments\u001b[0m\u001b[0;34m.\u001b[0m\u001b[0mreshape\u001b[0m\u001b[0;34m(\u001b[0m\u001b[0;36m800\u001b[0m\u001b[0;34m,\u001b[0m\u001b[0;36m3\u001b[0m\u001b[0;34m)\u001b[0m\u001b[0;34m\u001b[0m\u001b[0;34m\u001b[0m\u001b[0m\n\u001b[0m",
      "\u001b[0;31mValueError\u001b[0m: cannot reshape array of size 600 into shape (800,3)"
     ]
    }
   ],
   "source": [
    "periodic_segments_1 = periodic_segments.reshape(,3)"
   ]
  },
  {
   "cell_type": "code",
   "execution_count": 238,
   "metadata": {},
   "outputs": [
    {
     "data": {
      "text/plain": [
       "array([[   4.789755,    1.03801 ,   -0.453147],\n",
       "       [   5.202017,    2.642921,    0.197566],\n",
       "       [   4.789755,    9.520033,   -4.409343],\n",
       "       ...,\n",
       "       [ 151.494417,  108.141404, -102.224635],\n",
       "       [ 151.082155,  115.018516, -106.831544],\n",
       "       [ 151.494417,  116.623427, -106.180831]])"
      ]
     },
     "execution_count": 238,
     "metadata": {},
     "output_type": "execute_result"
    }
   ],
   "source": [
    "periodic_segments_1"
   ]
  },
  {
   "cell_type": "code",
   "execution_count": 209,
   "metadata": {},
   "outputs": [
    {
     "data": {
      "text/plain": [
       "array([[0.        , 0.        , 0.07441132],\n",
       "       [0.        , 0.        , 0.0758642 ],\n",
       "       [0.07441132, 0.0758642 , 0.        ]])"
      ]
     },
     "execution_count": 209,
     "metadata": {},
     "output_type": "execute_result"
    }
   ],
   "source": [
    "lk(segments[100:103])"
   ]
  },
  {
   "cell_type": "code",
   "execution_count": 136,
   "metadata": {},
   "outputs": [
    {
     "data": {
      "text/plain": [
       "[<matplotlib.lines.Line2D at 0x1345343d0>]"
      ]
     },
     "execution_count": 136,
     "metadata": {},
     "output_type": "execute_result"
    },
    {
     "data": {
      "image/png": "[encoded data removed]",
      "text/plain": [
       "<Figure size 432x288 with 1 Axes>"
      ]
     },
     "metadata": {
      "needs_background": "light"
     },
     "output_type": "display_data"
    }
   ],
   "source": [
    "plt.plot(pln,'g')"
   ]
  },
  {
   "cell_type": "code",
   "execution_count": 409,
   "metadata": {},
   "outputs": [
    {
     "data": {
      "text/plain": [
       "array([[ 4.789755,  1.03801 , -0.453147],\n",
       "       [ 3.589838,  1.662648, -1.569454]])"
      ]
     },
     "execution_count": 409,
     "metadata": {},
     "output_type": "execute_result"
    }
   ],
   "source": [
    "segments[1]"
   ]
  },
  {
   "cell_type": "code",
   "execution_count": 191,
   "metadata": {},
   "outputs": [],
   "source": [
    "segp_1 = ATLK.Segquad([[[1,0,0],[1,1,0]],[[1,0,1],[0,0,1]]])\n",
    "segp_2 = ATLK.Segquad([[[0,0,0],[1,1,0]],[[0,0,1],[1,1,1]]])\n",
    "segp_3 = ATLK.Segquad([[[0,0,0],[1,0.5,0]],[[0,0,1],[1,0,1]]])"
   ]
  },
  {
   "cell_type": "code",
   "execution_count": 177,
   "metadata": {},
   "outputs": [
    {
     "name": "stdout",
     "output_type": "stream",
     "text": [
      "[0. 1. 0.] [-1.  0.  0.] [0. 0. 1.] [ 0. -0.  1.]\n",
      "[1. 1. 0.] [1. 1. 0.] [0. 0. 1.] [0. 0. 0.]\n",
      "[1.  0.5 0. ] [1. 0. 0.] [0. 0. 1.] [ 0.   0.  -0.5]\n"
     ]
    }
   ],
   "source": [
    "print(segp_1.lonevec,segp_1.ltwovec,segp_1.startdist,segp_1.cross)\n",
    "print(segp_2.lonevec,segp_2.ltwovec,segp_2.startdist,segp_2.cross)\n",
    "print(segp_3.lonevec,segp_3.ltwovec,segp_3.startdist,segp_3.cross)"
   ]
  },
  {
   "cell_type": "code",
   "execution_count": 192,
   "metadata": {},
   "outputs": [
    {
     "name": "stdout",
     "output_type": "stream",
     "text": [
      "1.0 nan -1.0\n"
     ]
    }
   ],
   "source": [
    "print(segp_1.segdist(),segp_2.segdist(),segp_3.segdist())"
   ]
  },
  {
   "cell_type": "code",
   "execution_count": 195,
   "metadata": {},
   "outputs": [
    {
     "name": "stdout",
     "output_type": "stream",
     "text": [
      "1.5707963267948966 2.1073424255447017e-08 0.46364760900080615\n"
     ]
    }
   ],
   "source": [
    "print(segp_1.angle,segp_2.angle,segp_3.angle)"
   ]
  },
  {
   "cell_type": "code",
   "execution_count": 407,
   "metadata": {},
   "outputs": [
    {
     "name": "stdout",
     "output_type": "stream",
     "text": [
      "-0.021974467386391593 nan 0.09450903628525198\n"
     ]
    },
    {
     "name": "stderr",
     "output_type": "stream",
     "text": [
      "/Users/user/ATLK.py:78: RuntimeWarning: invalid value encountered in double_scalars\n",
      "  return trp(self.lonevec,self.ltwovec,self.startdist)/np.linalg.norm(self.cross)\n"
     ]
    }
   ],
   "source": [
    "print(segp_1.segatan(),segp_2.segatan(),segp_3.segatan())"
   ]
  },
  {
   "cell_type": "code",
   "execution_count": 415,
   "metadata": {},
   "outputs": [],
   "source": [
    "points = periodicSegments_cell(crystal_tri,segments[3],2,2,2)"
   ]
  },
  {
   "cell_type": "code",
   "execution_count": 418,
   "metadata": {},
   "outputs": [],
   "source": [
    "points = points.reshape(16,3)"
   ]
  },
  {
   "cell_type": "code",
   "execution_count": 423,
   "metadata": {},
   "outputs": [
    {
     "data": {
      "text/plain": [
       "[0, 2, 3, 4, 5, 6, 7, 8, 9, 10, 11, 12, 13]"
      ]
     },
     "execution_count": 423,
     "metadata": {},
     "output_type": "execute_result"
    }
   ],
   "source": [
    "inside_test(points,getCoordinates(crystal_tri,[1,1,0]))"
   ]
  },
  {
   "cell_type": "code",
   "execution_count": 428,
   "metadata": {},
   "outputs": [
    {
     "data": {
      "text/plain": [
       "[0, 1, 4, 5, 6, 7, 8, 9, 12, 13, 14, 15]"
      ]
     },
     "execution_count": 428,
     "metadata": {},
     "output_type": "execute_result"
    }
   ],
   "source": [
    "inside_test(points,getCoordinates(crystal_tri,[0,0,0]))"
   ]
  },
  {
   "cell_type": "code",
   "execution_count": 430,
   "metadata": {},
   "outputs": [
    {
     "data": {
      "text/plain": [
       "array([[ 4.789755,  1.03801 , -0.453147],\n",
       "       [ 5.202017,  2.642921,  0.197566],\n",
       "       [ 3.147088, -2.918186, 10.966878],\n",
       "       [ 3.55935 , -1.313275, 11.617591],\n",
       "       [ 2.306706,  9.520033, -0.453147],\n",
       "       [ 2.718968, 11.124944,  0.197566],\n",
       "       [ 0.664039,  5.563837, 10.966878],\n",
       "       [ 1.076301,  7.168748, 11.617591],\n",
       "       [12.489355,  1.03801 , -0.453147],\n",
       "       [12.901617,  2.642921,  0.197566],\n",
       "       [10.846688, -2.918186, 10.966878],\n",
       "       [11.25895 , -1.313275, 11.617591],\n",
       "       [10.006306,  9.520033, -0.453147],\n",
       "       [10.418568, 11.124944,  0.197566],\n",
       "       [ 8.363639,  5.563837, 10.966878],\n",
       "       [ 8.775901,  7.168748, 11.617591]])"
      ]
     },
     "execution_count": 430,
     "metadata": {},
     "output_type": "execute_result"
    }
   ],
   "source": [
    "points"
   ]
  },
  {
   "cell_type": "code",
   "execution_count": 433,
   "metadata": {},
   "outputs": [
    {
     "data": {
      "text/plain": [
       "array([[ 8.363639,  5.563837, 10.966878],\n",
       "       [ 8.775901,  7.168748, 11.617591]])"
      ]
     },
     "execution_count": 433,
     "metadata": {},
     "output_type": "execute_result"
    }
   ],
   "source": []
  },
  {
   "cell_type": "code",
   "execution_count": null,
   "metadata": {},
   "outputs": [],
   "source": []
  },
  {
   "cell_type": "code",
   "execution_count": 73,
   "metadata": {},
   "outputs": [],
   "source": [
    "t = np.empty(0)"
   ]
  },
  {
   "cell_type": "code",
   "execution_count": 162,
   "metadata": {},
   "outputs": [],
   "source": [
    " segments = np.empty((0,3))"
   ]
  },
  {
   "cell_type": "code",
   "execution_count": 165,
   "metadata": {},
   "outputs": [],
   "source": [
    "segments = np.concatenate((segments,np.array([[1,1,1]])),axis=0)"
   ]
  },
  {
   "cell_type": "code",
   "execution_count": 167,
   "metadata": {},
   "outputs": [
    {
     "data": {
      "text/plain": [
       "array([1., 1., 1.])"
      ]
     },
     "execution_count": 167,
     "metadata": {},
     "output_type": "execute_result"
    }
   ],
   "source": [
    "segments[0]"
   ]
  },
  {
   "cell_type": "code",
   "execution_count": 158,
   "metadata": {},
   "outputs": [
    {
     "data": {
      "text/plain": [
       "(2, 3)"
      ]
     },
     "execution_count": 158,
     "metadata": {},
     "output_type": "execute_result"
    }
   ],
   "source": [
    "segments.shape"
   ]
  },
  {
   "cell_type": "code",
   "execution_count": 12,
   "metadata": {},
   "outputs": [
    {
     "name": "stdout",
     "output_type": "stream",
     "text": [
      "[Atom(O8), Atom(O7), Atom(O3), Atom(O5), Atom(O6), Atom(O4), Atom(O1), Atom(O2), Atom(C8), Atom(H8A), Atom(H8B), Atom(C5), Atom(C3), Atom(C13), Atom(C1), Atom(C9), Atom(H9A), Atom(H9B), Atom(C2), Atom(H2A), Atom(H2B), Atom(C14), Atom(C10), Atom(C4), Atom(H4A), Atom(H4B), Atom(C6), Atom(H6A), Atom(H6B), Atom(C7), Atom(H7A), Atom(H7B), Atom(C12), Atom(C11), Atom(H5), Atom(H7), Atom(H2), Atom(H4), Atom(O8), Atom(O7), Atom(O3), Atom(O5), Atom(O6), Atom(O4), Atom(O1), Atom(O2), Atom(C8), Atom(H8A), Atom(H8B), Atom(C5), Atom(C3), Atom(C13), Atom(C1), Atom(C9), Atom(H9A), Atom(H9B), Atom(C2), Atom(H2A), Atom(H2B), Atom(C14), Atom(C10), Atom(C4), Atom(H4A), Atom(H4B), Atom(C6), Atom(H6A), Atom(H6B), Atom(C7), Atom(H7A), Atom(H7B), Atom(C12), Atom(C11), Atom(H5), Atom(H7), Atom(H2), Atom(H4)]\n"
     ]
    }
   ],
   "source": [
    "print(packed.atoms)"
   ]
  },
  {
   "cell_type": "code",
   "execution_count": 698,
   "metadata": {},
   "outputs": [],
   "source": [
    "segp = ATLK.Segquad([segment_s[0],segment_s[0]])"
   ]
  },
  {
   "cell_type": "code",
   "execution_count": 263,
   "metadata": {},
   "outputs": [
    {
     "data": {
      "text/plain": [
       "array([[ 9.87426565, 11.80381977, 11.3396011 ],\n",
       "       [10.5334138 , 12.91087377,  9.50887032]])"
      ]
     },
     "execution_count": 263,
     "metadata": {},
     "output_type": "execute_result"
    }
   ],
   "source": []
  },
  {
   "cell_type": "code",
   "execution_count": 264,
   "metadata": {},
   "outputs": [
    {
     "data": {
      "text/plain": [
       "array([[ 9.87426565, 11.80381977, 11.3396011 ],\n",
       "       [10.12864206,  9.31877055, 10.18055635]])"
      ]
     },
     "execution_count": 264,
     "metadata": {},
     "output_type": "execute_result"
    }
   ],
   "source": [
    "segment_s[1]"
   ]
  },
  {
   "cell_type": "code",
   "execution_count": 699,
   "metadata": {},
   "outputs": [
    {
     "name": "stderr",
     "output_type": "stream",
     "text": [
      "/Users/user/ATLK.py:86: RuntimeWarning: invalid value encountered in true_divide\n",
      "  b = self.startdist/((np.sin(self.angle))**2)\n",
      "/Users/user/ATLK.py:81: RuntimeWarning: invalid value encountered in double_scalars\n",
      "  return trp(self.lonevec,self.ltwovec,self.startdist)/np.linalg.norm(self.cross)\n"
     ]
    },
    {
     "data": {
      "text/plain": [
       "0.0"
      ]
     },
     "execution_count": 699,
     "metadata": {},
     "output_type": "execute_result"
    }
   ],
   "source": [
    "segp.segatan()"
   ]
  },
  {
   "cell_type": "code",
   "execution_count": 301,
   "metadata": {},
   "outputs": [],
   "source": [
    "crystal_tri = io.CrystalReader('1100119.cif')[0]"
   ]
  },
  {
   "cell_type": "code",
   "execution_count": 343,
   "metadata": {},
   "outputs": [],
   "source": [
    "packed_tri_1 = crystal_tri.packing(((0,0,0),(1.0,1.0,1.0)),'Centroidincluded')"
   ]
  },
  {
   "cell_type": "code",
   "execution_count": 344,
   "metadata": {},
   "outputs": [
    {
     "data": {
      "text/plain": [
       "Coordinates(x=1.787, y=2.263, z=5.710)"
      ]
     },
     "execution_count": 344,
     "metadata": {},
     "output_type": "execute_result"
    }
   ],
   "source": [
    "packed_tri_1.centre_of_geometry()"
   ]
  },
  {
   "cell_type": "code",
   "execution_count": 304,
   "metadata": {},
   "outputs": [
    {
     "data": {
      "text/plain": [
       "CellLengths(a=7.6996, b=8.838, c=12.197)"
      ]
     },
     "execution_count": 304,
     "metadata": {},
     "output_type": "execute_result"
    }
   ],
   "source": [
    "crystal_tri.cell_lengths"
   ]
  },
  {
   "cell_type": "code",
   "execution_count": 307,
   "metadata": {},
   "outputs": [],
   "source": [
    "packed_tri_1_5 = crystal_tri.packing(((0,0,0),(1.5,1.5,1.5)),'Centroidincluded')"
   ]
  },
  {
   "cell_type": "code",
   "execution_count": 308,
   "metadata": {},
   "outputs": [
    {
     "data": {
      "text/plain": [
       "Coordinates(x=2.303, y=3.308, z=8.324)"
      ]
     },
     "execution_count": 308,
     "metadata": {},
     "output_type": "execute_result"
    }
   ],
   "source": [
    "packed_tri_1_5.centre_of_geometry()"
   ]
  },
  {
   "cell_type": "code",
   "execution_count": null,
   "metadata": {},
   "outputs": [],
   "source": []
  },
  {
   "cell_type": "code",
   "execution_count": null,
   "metadata": {},
   "outputs": [],
   "source": []
  },
  {
   "cell_type": "code",
   "execution_count": null,
   "metadata": {},
   "outputs": [],
   "source": []
  },
  {
   "cell_type": "code",
   "execution_count": null,
   "metadata": {},
   "outputs": [],
   "source": []
  },
  {
   "cell_type": "code",
   "execution_count": null,
   "metadata": {},
   "outputs": [],
   "source": []
  },
  {
   "cell_type": "code",
   "execution_count": 423,
   "metadata": {},
   "outputs": [],
   "source": []
  },
  {
   "cell_type": "code",
   "execution_count": 516,
   "metadata": {},
   "outputs": [],
   "source": []
  },
  {
   "cell_type": "code",
   "execution_count": 381,
   "metadata": {},
   "outputs": [],
   "source": []
  },
  {
   "cell_type": "code",
   "execution_count": 386,
   "metadata": {},
   "outputs": [],
   "source": []
  },
  {
   "cell_type": "code",
   "execution_count": 392,
   "metadata": {},
   "outputs": [],
   "source": []
  },
  {
   "cell_type": "code",
   "execution_count": 76,
   "metadata": {},
   "outputs": [
    {
     "ename": "TypeError",
     "evalue": "type list doesn't define __round__ method",
     "output_type": "error",
     "traceback": [
      "\u001b[0;31m---------------------------------------------------------------------------\u001b[0m",
      "\u001b[0;31mTypeError\u001b[0m                                 Traceback (most recent call last)",
      "\u001b[0;32m<ipython-input-76-caac05ddf4ac>\u001b[0m in \u001b[0;36m<module>\u001b[0;34m\u001b[0m\n\u001b[0;32m----> 1\u001b[0;31m \u001b[0mround\u001b[0m\u001b[0;34m(\u001b[0m\u001b[0;34m[\u001b[0m\u001b[0;36m1.111111\u001b[0m\u001b[0;34m]\u001b[0m\u001b[0;34m,\u001b[0m\u001b[0;36m4\u001b[0m\u001b[0;34m)\u001b[0m\u001b[0;34m\u001b[0m\u001b[0;34m\u001b[0m\u001b[0m\n\u001b[0m",
      "\u001b[0;31mTypeError\u001b[0m: type list doesn't define __round__ method"
     ]
    }
   ],
   "source": [
    "round([1.111111],4)"
   ]
  },
  {
   "cell_type": "code",
   "execution_count": 515,
   "metadata": {},
   "outputs": [
    {
     "name": "stdout",
     "output_type": "stream",
     "text": [
      "[0. 0. 0.] [ 7.699 -0.    -0.   ] [-2.483  8.482 -0.   ] [-1.643 -3.956 11.42 ] [ 7.699 -0.    -0.   ] [ 5.216  8.482 -0.   ] [ 6.056 -3.956 11.42 ] [-4.126  4.526 11.42 ] [ 3.573  4.526 11.42 ]\n"
     ]
    }
   ],
   "source": []
  },
  {
   "cell_type": "code",
   "execution_count": 517,
   "metadata": {},
   "outputs": [
    {
     "data": {
      "text/plain": [
       "(array([ 3.57388341,  4.52582708, 11.42002487]),\n",
       " array([ 1.09083426, 13.00784989, 11.42002487]),\n",
       " array([11.27348341,  4.52582708, 11.42002487]),\n",
       " array([ 8.79043426, 13.00784989, 11.42002487]),\n",
       " array([ 1.93121597,  0.56963136, 22.84004974]),\n",
       " array([-0.55183317,  9.05165416, 22.84004974]),\n",
       " array([ 9.63081597,  0.56963136, 22.84004974]),\n",
       " array([ 7.14776683,  9.05165416, 22.84004974]))"
      ]
     },
     "execution_count": 517,
     "metadata": {},
     "output_type": "execute_result"
    }
   ],
   "source": [
    "getCoordinates(crystal_tri,np.array([1,1,1]))"
   ]
  },
  {
   "cell_type": "code",
   "execution_count": 450,
   "metadata": {},
   "outputs": [],
   "source": [
    "vectors = getVectors(crystal_tri)"
   ]
  },
  {
   "cell_type": "code",
   "execution_count": 520,
   "metadata": {},
   "outputs": [],
   "source": [
    "packed = crystal_tri.packing(((0,0,0),(1,1,1)),'Centroidincluded')"
   ]
  },
  {
   "cell_type": "code",
   "execution_count": 555,
   "metadata": {},
   "outputs": [],
   "source": [
    "segments = getSegments(packed.atoms,0.9)"
   ]
  },
  {
   "cell_type": "code",
   "execution_count": 375,
   "metadata": {},
   "outputs": [
    {
     "data": {
      "text/plain": [
       "array([[[ 4.789755,  1.03801 , -0.453147],\n",
       "        [ 3.589838,  1.662648, -1.569454]],\n",
       "\n",
       "       [[ 4.789755,  1.03801 , 10.966878],\n",
       "        [ 3.589838,  1.662648,  9.850571]],\n",
       "\n",
       "       [[ 4.789755,  9.520033, -4.409343],\n",
       "        [ 3.589838, 10.144671, -5.52565 ]],\n",
       "\n",
       "       [[ 4.789755,  9.520033,  7.010682],\n",
       "        [ 3.589838, 10.144671,  5.894375]],\n",
       "\n",
       "       [[12.489355, -1.445039, -2.095814],\n",
       "        [11.289438, -0.820401, -3.212121]],\n",
       "\n",
       "       [[12.489355, -1.445039,  9.324211],\n",
       "        [11.289438, -0.820401,  8.207904]],\n",
       "\n",
       "       [[12.489355,  7.036984, -6.05201 ],\n",
       "        [11.289438,  7.661622, -7.168317]],\n",
       "\n",
       "       [[12.489355,  7.036984,  5.368015],\n",
       "        [11.289438,  7.661622,  4.251708]]])"
      ]
     },
     "execution_count": 375,
     "metadata": {},
     "output_type": "execute_result"
    }
   ],
   "source": [
    "segments"
   ]
  },
  {
   "cell_type": "code",
   "execution_count": 560,
   "metadata": {},
   "outputs": [],
   "source": [
    "points = segments.reshape(segments.shape[0]*segments.shape[1],segments.shape[2])"
   ]
  },
  {
   "cell_type": "code",
   "execution_count": 562,
   "metadata": {},
   "outputs": [
    {
     "data": {
      "text/plain": [
       "[0, 1, 2, 3, 4, 5, 6, 7, 8, 9, 10, 11, 12, 13, 14, 16, 36]"
      ]
     },
     "execution_count": 562,
     "metadata": {},
     "output_type": "execute_result"
    }
   ],
   "source": [
    "inside_test(points,np.array(getCoordinates(crystal_tri,np.array([0.5,0.5,0.5]))))"
   ]
  },
  {
   "cell_type": "code",
   "execution_count": 59,
   "metadata": {},
   "outputs": [
    {
     "name": "stderr",
     "output_type": "stream",
     "text": [
      "/Users/user/opt/anaconda3/lib/python3.7/site-packages/ipykernel_launcher.py:1: RuntimeWarning: divide by zero encountered in true_divide\n",
      "  \"\"\"Entry point for launching an IPython kernel.\n"
     ]
    },
    {
     "data": {
      "text/plain": [
       "array([ 1., inf,  1.])"
      ]
     },
     "execution_count": 59,
     "metadata": {},
     "output_type": "execute_result"
    }
   ],
   "source": [
    "np.array([1,2,3])/np.array([1,0,3])"
   ]
  },
  {
   "cell_type": "code",
   "execution_count": 310,
   "metadata": {},
   "outputs": [
    {
     "name": "stdout",
     "output_type": "stream",
     "text": [
      "0\n",
      "1\n",
      "2\n",
      "3\n",
      "4\n"
     ]
    }
   ],
   "source": [
    "for i in range(5):\n",
    "    print(i)"
   ]
  },
  {
   "cell_type": "code",
   "execution_count": 330,
   "metadata": {},
   "outputs": [
    {
     "data": {
      "text/plain": [
       "array([8, 8, 8])"
      ]
     },
     "execution_count": 330,
     "metadata": {},
     "output_type": "execute_result"
    }
   ],
   "source": [
    "np.dot(vectors,[4,4,4])"
   ]
  },
  {
   "cell_type": "code",
   "execution_count": 359,
   "metadata": {},
   "outputs": [],
   "source": [
    "vectors = getVectors(crystal_tri)"
   ]
  },
  {
   "cell_type": "code",
   "execution_count": 328,
   "metadata": {},
   "outputs": [],
   "source": [
    "vectors=[np.array([2,0,0]),np.array([0,2,0]),np.array([0,0,2])]"
   ]
  },
  {
   "cell_type": "code",
   "execution_count": 342,
   "metadata": {},
   "outputs": [
    {
     "data": {
      "text/plain": [
       "[array([7.6996, 0.    , 0.    ]),\n",
       " array([-2.483049,  8.482023,  0.      ]),\n",
       " array([-1.642667, -3.956196, 11.420025])]"
      ]
     },
     "execution_count": 342,
     "metadata": {},
     "output_type": "execute_result"
    }
   ],
   "source": [
    "getVectors(crystal_tri)"
   ]
  },
  {
   "cell_type": "code",
   "execution_count": 334,
   "metadata": {},
   "outputs": [
    {
     "data": {
      "text/plain": [
       "array([[ 4.789755,  1.03801 , -0.453147],\n",
       "       [ 3.589838,  1.662648, -1.569454]])"
      ]
     },
     "execution_count": 334,
     "metadata": {},
     "output_type": "execute_result"
    }
   ],
   "source": []
  },
  {
   "cell_type": "code",
   "execution_count": 340,
   "metadata": {},
   "outputs": [
    {
     "name": "stdout",
     "output_type": "stream",
     "text": [
      "[0, 0, 0]\n",
      "[0. 0. 0.]\n",
      "[0, 0, 1]\n",
      "[ 0.        0.       11.420025]\n",
      "[0, 1, 0]\n",
      "[ 0.        8.482023 -3.956196]\n",
      "[0, 1, 1]\n",
      "[0.       8.482023 7.463829]\n",
      "[1, 0, 0]\n",
      "[ 7.6996   -2.483049 -1.642667]\n",
      "[1, 0, 1]\n",
      "[ 7.6996   -2.483049  9.777358]\n",
      "[1, 1, 0]\n",
      "[ 7.6996    5.998974 -5.598863]\n",
      "[1, 1, 1]\n",
      "[7.6996   5.998974 5.821162]\n"
     ]
    }
   ],
   "source": []
  },
  {
   "cell_type": "code",
   "execution_count": null,
   "metadata": {},
   "outputs": [],
   "source": []
  },
  {
   "cell_type": "code",
   "execution_count": 372,
   "metadata": {},
   "outputs": [
    {
     "data": {
      "text/plain": [
       "array([ 3.573884,  4.525827, 11.420025])"
      ]
     },
     "execution_count": 372,
     "metadata": {},
     "output_type": "execute_result"
    }
   ],
   "source": []
  },
  {
   "cell_type": "code",
   "execution_count": 362,
   "metadata": {},
   "outputs": [
    {
     "data": {
      "text/plain": [
       "array([ 0.      ,  0.      , 11.420025])"
      ]
     },
     "execution_count": 362,
     "metadata": {},
     "output_type": "execute_result"
    }
   ],
   "source": []
  },
  {
   "cell_type": "code",
   "execution_count": 386,
   "metadata": {},
   "outputs": [],
   "source": []
  },
  {
   "cell_type": "code",
   "execution_count": 387,
   "metadata": {},
   "outputs": [
    {
     "ename": "ValueError",
     "evalue": "shapes (2,3) and (2,3) not aligned: 3 (dim 1) != 2 (dim 0)",
     "output_type": "error",
     "traceback": [
      "\u001b[0;31m---------------------------------------------------------------------------\u001b[0m",
      "\u001b[0;31mValueError\u001b[0m                                Traceback (most recent call last)",
      "\u001b[0;32m<ipython-input-387-79563090be03>\u001b[0m in \u001b[0;36m<module>\u001b[0;34m\u001b[0m\n\u001b[0;32m----> 1\u001b[0;31m angle = np.arccos( np.dot(segment1,segment2) \n\u001b[0m\u001b[1;32m      2\u001b[0m                               / (distance(segment1[1],segment1[0]) *dis(segment2[1],segment2[0])) )\n",
      "\u001b[0;32m<__array_function__ internals>\u001b[0m in \u001b[0;36mdot\u001b[0;34m(*args, **kwargs)\u001b[0m\n",
      "\u001b[0;31mValueError\u001b[0m: shapes (2,3) and (2,3) not aligned: 3 (dim 1) != 2 (dim 0)"
     ]
    }
   ],
   "source": [
    " "
   ]
  },
  {
   "cell_type": "code",
   "execution_count": null,
   "metadata": {},
   "outputs": [],
   "source": []
  },
  {
   "cell_type": "code",
   "execution_count": null,
   "metadata": {},
   "outputs": [],
   "source": []
  }
 ],
 "metadata": {
  "kernelspec": {
   "display_name": "Python 3",
   "language": "python",
   "name": "python3"
  },
  "language_info": {
   "codemirror_mode": {
    "name": "ipython",
    "version": 3
   },
   "file_extension": ".py",
   "mimetype": "text/x-python",
   "name": "python",
   "nbconvert_exporter": "python",
   "pygments_lexer": "ipython3",
   "version": "3.7.6"
  }
 },
 "nbformat": 4,
 "nbformat_minor": 4
}
