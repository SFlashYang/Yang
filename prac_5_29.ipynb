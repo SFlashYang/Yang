{
 "cells": [
  {
   "cell_type": "code",
   "execution_count": 77,
   "metadata": {},
   "outputs": [],
   "source": [
    "from typing import List"
   ]
  },
  {
   "cell_type": "code",
   "execution_count": null,
   "metadata": {},
   "outputs": [],
   "source": [
    "class Solution:\n",
    "    def partition(self, s:str):\n",
    "        n = len(s)\n",
    "        f = [[True] *n  for _ in range(n)]\n",
    "        for i in range(n-1,-1,-1):\n",
    "            for j in range(i+1,n):                \n",
    "                f[i][j] = (s[i]==s[j]) and f[i+1][j-1]\n",
    "        ret = list()\n",
    "        ans = list()\n",
    "        def dfs(i: int):\n",
    "            if i==n:\n",
    "                ret.append(ans[:])\n",
    "                return\n",
    "                \n",
    "            for j in range(i,n):\n",
    "                if f[i][j]:\n",
    "                    ans.append(s[i:j+1])\n",
    "                    dfs(j+1)\n",
    "                    ans.pop()\n",
    "        dfs(0)\n",
    "        return ret\n",
    "    def widthofBinaryTree_bfs(self, root):\n",
    "        queue = [(root, 0, 0,)]\n",
    "        cur_depth = left = ans = 0\n",
    "        for node, depth, pos in queue:\n",
    "            if node:\n",
    "                queue.append((node.left,depth+1, pos*2))\n",
    "                queue.append(node.right, depth+1, pos*2+1)\n",
    "                if cur_depth != depth:\n",
    "                    cur_depth = depth\n",
    "                    left = pos\n",
    "                ans = max(pos-left + 1, ans)\n",
    "        return ans\n",
    "    def widthofBinaryTree_dfs(self, root):\n",
    "        self.ans=0\n",
    "        left = {}\n",
    "        def dfs(node, depth = 0, pos = 0):\n",
    "            if node:\n",
    "                left.setdefault(depth,pos)\n",
    "                self.ans = max(self.ans, pos-left[depth]+1)\n",
    "                dfs(node.left,depth+1,pos*2)\n",
    "                dfs(node.right, depth+1,pos*2+1)\n",
    "        dfs(root)\n",
    "        return self.ans"
   ]
  },
  {
   "cell_type": "markdown",
   "metadata": {},
   "source": [
    "# 加油站\n",
    "在一条环路上有 口个加油站，其中第 1 个加油站有汽油 gasli]升。\n",
    "你有一辆油箱容量无限的的汽车，从第 i个加油站开往第 i+1 个加油站需要汁\n",
    "耗汽油 costri〕升。你从其中的一个加油站出发，开始时油箱为空\n",
    "给定两个整数数组 gas 和 cost\n",
    "，如果你可以绕环路行驶一周，则返回出发时\n",
    "加油站的编号.\n",
    "否则返回 -1。如果存在解，则保证 它是唯一的"
   ]
  },
  {
   "cell_type": "markdown",
   "metadata": {},
   "source": [
    "## Sol\n",
    "因为只存在一个满足答案的解，所以只需检查已每一个加油站为起点是否能绕一圈  \n",
    "但因为每到一个加油站，油量只会大于等于直接从这个加油站出发的油量，所以当  \n",
    "检测到从第x加油站最远的加油站是y时，那么从x到y中的任一加油站出发都到不了  \n",
    "加油站y+1，所以当检测完从检查站x到达y时，我们可以直接从y+1开始搜索即可  \n",
    "时间复杂度为O(N)因为最多遍历一遍，从0到N"
   ]
  },
  {
   "cell_type": "code",
   "execution_count": null,
   "metadata": {},
   "outputs": [],
   "source": [
    "class gass_station:\n",
    "    def circle_around(gas:List[int],cost:List[int]) -> int:\n",
    "        n = len(gas)\n",
    "        i = 0\n",
    "        while (i<n):\n",
    "            sumGas = 0\n",
    "            sumCost = 0\n",
    "            cnt = 0\n",
    "            while(cnt<n):\n",
    "                j =(i+cnt)%n\n",
    "                sumCost += cost[j]\n",
    "                sumGas  += gas[j]\n",
    "                if (sumGas<sumCost):\n",
    "                    break\n",
    "                else:\n",
    "                    j += 1\n",
    "            if (j==n):\n",
    "                return i\n",
    "            else:\n",
    "                i = i+cnt+1\n",
    "        return -1"
   ]
  },
  {
   "cell_type": "markdown",
   "metadata": {},
   "source": [
    "## 分糖果\n",
    "类似动态规划与回溯，  \n",
    "但遍历到最后一个节点再回溯与每次正向遍历left改变就开始回溯的效果相同    "
   ]
  },
  {
   "cell_type": "code",
   "execution_count": 107,
   "metadata": {},
   "outputs": [],
   "source": [
    "class candy_dep:\n",
    "    def candy(self, ratings:List[int]) -> int:\n",
    "        n = len(ratings)\n",
    "        left = [1] * n\n",
    "        for i in range(1,n):\n",
    "            if ratings[i] >ratings[i-1]:\n",
    "                left[i] = left[i-1] + 1\n",
    "        #print(left)\n",
    "        right = left\n",
    "        for j in range(n-2,-1,-1):\n",
    "            if ratings[j] > ratings[j+1]:\n",
    "                right[j]= max(right[j+1]+1,right[j])\n",
    "        #print(right)\n",
    "        return sum(right)"
   ]
  },
  {
   "cell_type": "markdown",
   "metadata": {},
   "source": [
    "### 复制带有random节点的链表\n",
    "关键在于当cur节点的random节点还未产生时，无法添加  \n",
    "故应第一次遍历添加next指针，第二次再添加random指针  \n",
    "第一次使用hash表应用到链表中，有效的解决了链表的index  \n",
    "问题"
   ]
  },
  {
   "cell_type": "code",
   "execution_count": null,
   "metadata": {},
   "outputs": [],
   "source": [
    "# Definition for a Node.\n",
    "class Node:\n",
    "    def __init__(self, x: int, next: 'Node' = None, random: 'Node' = None):\n",
    "        self.val = int(x)\n",
    "        self.next = next\n",
    "        self.random = random\n",
    "\n",
    "\n",
    "class Solution:\n",
    "    def copyRandomList(self, head: Node) -> Node:\n",
    "        map = dict()\n",
    "        if not head:\n",
    "            return None\n",
    "        cur = head\n",
    "        new_node = Node(cur.val,None,None)\n",
    "        map[cur] = new_node\n",
    "        while cur.next:\n",
    "            map[cur.next] = Node(cur.next.val,None,None)\n",
    "            map[cur].next = map[cur.next] \n",
    "            cur = cur.next\n",
    "        cur = head\n",
    "        while (cur):\n",
    "            if(cur.random):\n",
    "                map[cur].random = map[cur.random]\n",
    "            cur = cur.next\n",
    "        return map[head]        "
   ]
  },
  {
   "cell_type": "markdown",
   "metadata": {},
   "source": [
    "## 单词拆分"
   ]
  },
  {
   "cell_type": "markdown",
   "metadata": {},
   "source": [
    " ### DFS\n",
    "        record = dict()\n",
    "        map = dict()\n",
    "        for word in wordDict:\n",
    "            map[word] = len(word)\n",
    "        def dfs(s, wordDict):\n",
    "            if s == \"\":\n",
    "                return True\n",
    "            for word in wordsDict:\n",
    "                if (s[0:map(word)] in map and len(s[map(word):]) not in record ):\n",
    "                    if (dfs(s[map(word):],wordDict)):\n",
    "                        return True\n",
    "                    record[len(s[map(word):])] = 1\n",
    "            return False\n",
    "        return dfs(s,wordDict)\n",
    "    "
   ]
  },
  {
   "cell_type": "code",
   "execution_count": 106,
   "metadata": {},
   "outputs": [],
   "source": [
    "class Solution:\n",
    "    def wordBreak(self, s: str, wordDict: List[str]) -> bool:\n",
    "        record = dict()\n",
    "        map = dict()\n",
    "        lens = []\n",
    "        for word in wordDict:\n",
    "            map[word] = 1\n",
    "            lens.append(len(word))\n",
    "        def dfs(s, wordDict):\n",
    "            if s == \"\":\n",
    "                return True\n",
    "            for length in lens:\n",
    "                if (s[0:length] in map and len(s[length:]) not in record ):\n",
    "                    if (dfs(s[length:],wordDict)):\n",
    "                        return True\n",
    "                    record[len(s[length:])] = 1\n",
    "            return False\n",
    "        return dfs(s,wordDict)\n",
    "#Time:90 cache:33"
   ]
  },
  {
   "cell_type": "code",
   "execution_count": null,
   "metadata": {},
   "outputs": [],
   "source": []
  }
 ],
 "metadata": {
  "interpreter": {
   "hash": "2fa6bf9bb5136793b4ac83d60f2ba177b62000748b0aea05fcbd9c4a34ed6830"
  },
  "kernelspec": {
   "display_name": "Python 3.7.7 ('tt')",
   "language": "python",
   "name": "python3"
  },
  "language_info": {
   "codemirror_mode": {
    "name": "ipython",
    "version": 3
   },
   "file_extension": ".py",
   "mimetype": "text/x-python",
   "name": "python",
   "nbconvert_exporter": "python",
   "pygments_lexer": "ipython3",
   "version": "3.7.7"
  },
  "orig_nbformat": 4
 },
 "nbformat": 4,
 "nbformat_minor": 2
}
