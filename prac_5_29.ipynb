{
 "cells": [
  {
   "cell_type": "code",
   "execution_count": 64,
   "metadata": {},
   "outputs": [],
   "source": [
    "class Solution:\n",
    "    def partition(self, s:str):\n",
    "        n = len(s)\n",
    "        f = [[True] *n  for _ in range(n)]\n",
    "        for i in range(n-1,-1,-1):\n",
    "            for j in range(i+1,n):                \n",
    "                f[i][j] = (s[i]==s[j]) and f[i+1][j-1]\n",
    "        ret = list()\n",
    "        ans = list()\n",
    "        def dfs(i: int):\n",
    "            if i==n:\n",
    "                ret.append(ans[:])\n",
    "                return\n",
    "                \n",
    "            for j in range(i,n):\n",
    "                if f[i][j]:\n",
    "                    ans.append(s[i:j+1])\n",
    "                    dfs(j+1)\n",
    "                    ans.pop()\n",
    "        dfs(0)\n",
    "        return ret\n",
    "    def widthofBinaryTree_bfs(self, root):\n",
    "        queue = [(root, 0, 0,)]\n",
    "        cur_depth = left = ans = 0\n",
    "        for node, depth, pos in queue:\n",
    "            if node:\n",
    "                queue.append((node.left,depth+1, pos*2))\n",
    "                queue.append(node.right, depth+1, pos*2+1)\n",
    "                if cur_depth != depth:\n",
    "                    cur_depth = depth\n",
    "                    left = pos\n",
    "                ans = max(pos-left + 1, ans)\n",
    "        return ans\n",
    "    def widthofBinaryTree_dfs(self, root):\n",
    "        self.ans=0\n",
    "        left = {}\n",
    "        def dfs(node, depth = 0, pos = 0):\n",
    "            if node:\n",
    "                left.setdefault(depth,pos)\n",
    "                self.ans = max(self.ans, pos-left[depth]+1)\n",
    "                dfs(node.left,depth+1,pos*2)\n",
    "                dfs(node.right, depth+1,pos*2+1)\n",
    "        dfs(root)\n",
    "        return self.ans"
   ]
  },
  {
   "cell_type": "code",
   "execution_count": null,
   "metadata": {},
   "outputs": [],
   "source": []
  }
 ],
 "metadata": {
  "interpreter": {
   "hash": "2fa6bf9bb5136793b4ac83d60f2ba177b62000748b0aea05fcbd9c4a34ed6830"
  },
  "kernelspec": {
   "display_name": "Python 3.7.7 ('tt')",
   "language": "python",
   "name": "python3"
  },
  "language_info": {
   "codemirror_mode": {
    "name": "ipython",
    "version": 3
   },
   "file_extension": ".py",
   "mimetype": "text/x-python",
   "name": "python",
   "nbconvert_exporter": "python",
   "pygments_lexer": "ipython3",
   "version": "3.7.7"
  },
  "orig_nbformat": 4
 },
 "nbformat": 4,
 "nbformat_minor": 2
}
