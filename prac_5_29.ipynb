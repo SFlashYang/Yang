{
 "cells": [
  {
   "cell_type": "code",
   "execution_count": 184,
   "metadata": {},
   "outputs": [],
   "source": [
    "from typing import List"
   ]
  },
  {
   "cell_type": "code",
   "execution_count": null,
   "metadata": {},
   "outputs": [],
   "source": [
    "class Solution:\n",
    "    def partition(self, s:str):\n",
    "        n = len(s)\n",
    "        f = [[True] *n  for _ in range(n)]\n",
    "        for i in range(n-1,-1,-1):\n",
    "            for j in range(i+1,n):                \n",
    "                f[i][j] = (s[i]==s[j]) and f[i+1][j-1]\n",
    "        ret = list()\n",
    "        ans = list()\n",
    "        def dfs(i: int):\n",
    "            if i==n:\n",
    "                ret.append(ans[:])\n",
    "                return\n",
    "                \n",
    "            for j in range(i,n):\n",
    "                if f[i][j]:\n",
    "                    ans.append(s[i:j+1])\n",
    "                    dfs(j+1)\n",
    "                    ans.pop()\n",
    "        dfs(0)\n",
    "        return ret\n",
    "    def widthofBinaryTree_bfs(self, root):\n",
    "        queue = [(root, 0, 0,)]\n",
    "        cur_depth = left = ans = 0\n",
    "        for node, depth, pos in queue:\n",
    "            if node:\n",
    "                queue.append((node.left,depth+1, pos*2))\n",
    "                queue.append(node.right, depth+1, pos*2+1)\n",
    "                if cur_depth != depth:\n",
    "                    cur_depth = depth\n",
    "                    left = pos\n",
    "                ans = max(pos-left + 1, ans)\n",
    "        return ans\n",
    "    def widthofBinaryTree_dfs(self, root):\n",
    "        self.ans=0\n",
    "        left = {}\n",
    "        def dfs(node, depth = 0, pos = 0):\n",
    "            if node:\n",
    "                left.setdefault(depth,pos)\n",
    "                self.ans = max(self.ans, pos-left[depth]+1)\n",
    "                dfs(node.left,depth+1,pos*2)\n",
    "                dfs(node.right, depth+1,pos*2+1)\n",
    "        dfs(root)\n",
    "        return self.ans"
   ]
  },
  {
   "cell_type": "markdown",
   "metadata": {},
   "source": [
    "# 加油站\n",
    "在一条环路上有 口个加油站，其中第 1 个加油站有汽油 gasli]升。\n",
    "你有一辆油箱容量无限的的汽车，从第 i个加油站开往第 i+1 个加油站需要汁\n",
    "耗汽油 costri〕升。你从其中的一个加油站出发，开始时油箱为空\n",
    "给定两个整数数组 gas 和 cost\n",
    "，如果你可以绕环路行驶一周，则返回出发时\n",
    "加油站的编号.\n",
    "否则返回 -1。如果存在解，则保证 它是唯一的"
   ]
  },
  {
   "cell_type": "markdown",
   "metadata": {},
   "source": [
    "## Sol\n",
    "因为只存在一个满足答案的解，所以只需检查已每一个加油站为起点是否能绕一圈  \n",
    "但因为每到一个加油站，油量只会大于等于直接从这个加油站出发的油量，所以当  \n",
    "检测到从第x加油站最远的加油站是y时，那么从x到y中的任一加油站出发都到不了  \n",
    "加油站y+1，所以当检测完从检查站x到达y时，我们可以直接从y+1开始搜索即可  \n",
    "时间复杂度为O(N)因为最多遍历一遍，从0到N"
   ]
  },
  {
   "cell_type": "code",
   "execution_count": null,
   "metadata": {},
   "outputs": [],
   "source": [
    "class gass_station:\n",
    "    def circle_around(gas:List[int],cost:List[int]) -> int:\n",
    "        n = len(gas)\n",
    "        i = 0\n",
    "        while (i<n):\n",
    "            sumGas = 0\n",
    "            sumCost = 0\n",
    "            cnt = 0\n",
    "            while(cnt<n):\n",
    "                j =(i+cnt)%n\n",
    "                sumCost += cost[j]\n",
    "                sumGas  += gas[j]\n",
    "                if (sumGas<sumCost):\n",
    "                    break\n",
    "                else:\n",
    "                    j += 1\n",
    "            if (j==n):\n",
    "                return i\n",
    "            else:\n",
    "                i = i+cnt+1\n",
    "        return -1"
   ]
  },
  {
   "cell_type": "markdown",
   "metadata": {},
   "source": [
    "## 分糖果\n",
    "类似动态规划与回溯，  \n",
    "但遍历到最后一个节点再回溯与每次正向遍历left改变就开始回溯的效果相同    "
   ]
  },
  {
   "cell_type": "code",
   "execution_count": 107,
   "metadata": {},
   "outputs": [],
   "source": [
    "class candy_dep:\n",
    "    def candy(self, ratings:List[int]) -> int:\n",
    "        n = len(ratings)\n",
    "        left = [1] * n\n",
    "        for i in range(1,n):\n",
    "            if ratings[i] >ratings[i-1]:\n",
    "                left[i] = left[i-1] + 1\n",
    "        #print(left)\n",
    "        right = left\n",
    "        for j in range(n-2,-1,-1):\n",
    "            if ratings[j] > ratings[j+1]:\n",
    "                right[j]= max(right[j+1]+1,right[j])\n",
    "        #print(right)\n",
    "        return sum(right)"
   ]
  },
  {
   "cell_type": "markdown",
   "metadata": {},
   "source": [
    "### 复制带有random节点的链表\n",
    "关键在于当cur节点的random节点还未产生时，无法添加  \n",
    "故应第一次遍历添加next指针，第二次再添加random指针  \n",
    "第一次使用hash表应用到链表中，有效的解决了链表的index  \n",
    "问题"
   ]
  },
  {
   "cell_type": "code",
   "execution_count": 154,
   "metadata": {},
   "outputs": [],
   "source": [
    "# Definition for a Node.\n",
    "class Node:\n",
    "    def __init__(self, x: int, next: 'Node' = None, random: 'Node' = None):\n",
    "        self.val = int(x)\n",
    "        self.next = next\n",
    "        self.random = random\n",
    "\n",
    "\n",
    "class Solution:\n",
    "    def copyRandomList(self, head: Node) -> Node:\n",
    "        map = dict()\n",
    "        if not head:\n",
    "            return None\n",
    "        cur = head\n",
    "        new_node = Node(cur.val,None,None)\n",
    "        map[cur] = new_node\n",
    "        while cur.next:\n",
    "            map[cur.next] = Node(cur.next.val,None,None)\n",
    "            map[cur].next = map[cur.next] \n",
    "            cur = cur.next\n",
    "        cur = head\n",
    "        while (cur):\n",
    "            if(cur.random):\n",
    "                map[cur].random = map[cur.random]\n",
    "            cur = cur.next\n",
    "        return map[head]        "
   ]
  },
  {
   "cell_type": "markdown",
   "metadata": {},
   "source": [
    "## 单词拆分"
   ]
  },
  {
   "cell_type": "markdown",
   "metadata": {},
   "source": [
    " ### DFS\n",
    "        record = dict()\n",
    "        map = dict()\n",
    "        for word in wordDict:\n",
    "            map[word] = len(word)\n",
    "        def dfs(s, wordDict):\n",
    "            if s == \"\":\n",
    "                return True\n",
    "            for word in wordsDict:\n",
    "                if (s[0:map(word)] in map and len(s[map(word):]) not in record ):\n",
    "                    if (dfs(s[map(word):],wordDict)):\n",
    "                        return True\n",
    "                    record[len(s[map(word):])] = 1\n",
    "            return False\n",
    "        return dfs(s,wordDict)\n",
    "    "
   ]
  },
  {
   "cell_type": "code",
   "execution_count": 106,
   "metadata": {},
   "outputs": [],
   "source": [
    "class Solution:\n",
    "    def wordBreak(self, s: str, wordDict: List[str]) -> bool:\n",
    "        record = dict()\n",
    "        map = dict()\n",
    "        lens = []\n",
    "        for word in wordDict:\n",
    "            map[word] = 1\n",
    "            lens.append(len(word))\n",
    "        def dfs(s, wordDict):\n",
    "            if s == \"\":\n",
    "                return True\n",
    "            for length in lens:\n",
    "                if (s[0:length] in map and len(s[length:]) not in record ):\n",
    "                    if (dfs(s[length:],wordDict)):\n",
    "                        return True\n",
    "                    record[len(s[length:])] = 1\n",
    "            return False\n",
    "        return dfs(s,wordDict)\n",
    "#Time:90 cache:33"
   ]
  },
  {
   "cell_type": "code",
   "execution_count": null,
   "metadata": {},
   "outputs": [],
   "source": [
    "class Solution:\n",
    "    def wordBreak(self, s: str, wordDict: List[str]) -> List[str]:\n",
    "        map = dict()\n",
    "        ans = []\n",
    "        for word in wordDict:\n",
    "            map[word] = 1\n",
    "        path =\"\"\n",
    "        def dfs(s, wordDict,path):\n",
    "            if s == \"\":\n",
    "                ans.append(path[:-1])\n",
    "                return\n",
    "            for word in wordDict:\n",
    "                length = len(word)\n",
    "                if (s[0:length] == word and len(s)>=length):\n",
    "                    path += word + \" \"\n",
    "                    dfs(s[length:],wordDict,path)\n",
    "                    path = path[:-(length+1)]                  \n",
    "            path = \"\"\n",
    "            return\n",
    "        dfs(s,wordDict,path)\n",
    "        return list(set(ans))"
   ]
  },
  {
   "cell_type": "code",
   "execution_count": 151,
   "metadata": {},
   "outputs": [],
   "source": [
    "#解决重复遍历问题，save T\n",
    "class Solution:\n",
    "    def wordBreak(self, s: str, wordDict: List[str]) -> bool:\n",
    "        map = dict()\n",
    "        ans = []\n",
    "        for word in wordDict:\n",
    "            map[word] = 1\n",
    "        path =\"\"\n",
    "        def dfs(s, wordDict,path):\n",
    "            if s == \"\":\n",
    "                ans.append(path[:-1])\n",
    "                return True\n",
    "            for word in wordDict:\n",
    "                length = len(word)\n",
    "                if (s[0:length] == word and len(s)>=length):\n",
    "                    path += word + \" \"\n",
    "                    dfs(s[length:],wordDict,path)\n",
    "                    path = path[:-(length+1)]\n",
    "            path=\"\"                 \n",
    "            return False\n",
    "        dfs(s,wordDict,path)\n",
    "        return ans"
   ]
  },
  {
   "cell_type": "markdown",
   "metadata": {},
   "source": [
    "## 环形链表"
   ]
  },
  {
   "cell_type": "code",
   "execution_count": 155,
   "metadata": {},
   "outputs": [],
   "source": [
    "class Solution:\n",
    "    def circle_Link_hash(self,head:Node):\n",
    "        map = dict()\n",
    "        if head is None:\n",
    "            return False\n",
    "        while(head):\n",
    "            if(head in map):\n",
    "                return head\n",
    "            map[head] = 1\n",
    "            head = head.next\n",
    "        return -1\n",
    "        "
   ]
  },
  {
   "cell_type": "code",
   "execution_count": 172,
   "metadata": {},
   "outputs": [],
   "source": [
    "class Test():\n",
    "    def recordList(self,head:Node):\n",
    "        cur = ListNode()\n",
    "        cur.next = head\n",
    "        def findEnd(head):\n",
    "            while(head):\n",
    "                head = head.next\n",
    "            return head\n",
    "        while(head.next.next):\n",
    "            temp = head.next\n",
    "            head.next=findEnd(head)\n",
    "            head.next.next=temp\n",
    "            head = head.next.next\n",
    "        head = cur.next\n",
    "        \n"
   ]
  },
  {
   "cell_type": "code",
   "execution_count": 186,
   "metadata": {},
   "outputs": [],
   "source": [
    "#Review of traversal\n",
    "class Teavelsal:\n",
    "    #前序遍历为 根-->左-->右 入栈顺序为 根-->右-->左\n",
    "    def preorderTraversal(self, root:Node)->List[int]:\n",
    "    #根结点为空则返回空结点\n",
    "        if not root:\n",
    "            return []\n",
    "        stack = [root]\n",
    "        result = []\n",
    "        while stack:\n",
    "            node = stack.pop()\n",
    "            #根节点出栈\n",
    "            result.append(node.val)\n",
    "            if(node.right):\n",
    "                #右节点入栈\n",
    "                stack.append(node.right)\n",
    "            if(node.left):\n",
    "                #左节点入栈\n",
    "                stack.append(node.left)\n",
    "        return result\n",
    "    #中序遍历为 左-->根-->右 入栈顺序为 左-->根-->右\n",
    "    def inorderTraversal(self, root)->List[int]:\n",
    "        if not root:\n",
    "            return []\n",
    "        stack = []\n",
    "        result = []\n",
    "        cur = root\n",
    "        while cur or stack:\n",
    "            #先迭代访问最底层的左子树节点\n",
    "            if cur:\n",
    "                stack.append(cur)\n",
    "                cur=cur.left\n",
    "            #到达最左节点后处理该栈顶节点\n",
    "            else:\n",
    "                cur = stack.pop()\n",
    "                result.append(cur.val)\n",
    "                #将最左节点（栈顶节点）加入result\n",
    "                cur = cur.right\n",
    "                #取栈顶节点的右节点\n",
    "        return result\n",
    "    def postorderTravel(self,root)->List[int]:\n",
    "        if not root:\n",
    "            return []\n",
    "        stack = [root]\n",
    "        result = []\n",
    "        while stack:\n",
    "            node = stack.pop()\n",
    "            result.append(node.val)\n",
    "            if node.left:\n",
    "                stack.append(node.left)\n",
    "            if node.right:\n",
    "                stack.append(node.right)\n",
    "        return result[::-1]\n"
   ]
  },
  {
   "cell_type": "code",
   "execution_count": 191,
   "metadata": {},
   "outputs": [],
   "source": [
    "class DlinkNode:\n",
    "    def __init__(self,key=0, value=0):\n",
    "        self.key = key\n",
    "        self.value = value\n",
    "        self.prev = None\n",
    "        self.next = None\n",
    "class LRUCache:\n",
    "    def __init__(self, capacity):\n",
    "        self.cache = dict()\n",
    "        self.head = DlinkNode()\n",
    "        self.tail = DlinkNode()\n",
    "        self.head.next = self.tail\n",
    "        self.tail.prev = self.head\n",
    "        self.size = 0\n",
    "        self.capacity = capacity\n",
    "    def get(self, key:int):\n",
    "        if key not in self.cache:\n",
    "            return -1\n",
    "        node = self.cache[key]\n",
    "        self.moveToHead(node)\n",
    "        return node.value\n",
    "    def put(self, key:int, value:int):\n",
    "        if key in self.cache:\n",
    "            node = self.cache[key]\n",
    "            node.value = value\n",
    "            self.moveToHead(node)\n",
    "        else:\n",
    "            if (self.size == self.capacity ):\n",
    "                 node = self.removeTail()\n",
    "                 self.cache.pop(node)\n",
    "                 self.size -=1\n",
    "            else:\n",
    "                newNode = DlinkNode(key,value)\n",
    "                self.cache[key] = value\n",
    "                self.addToHead(newNode)\n",
    "                self.size +=1\n",
    "\n",
    "    def removeTail(self):\n",
    "        node = self.tail.prev\n",
    "        self.removeNode(node)\n",
    "        return node\n",
    "    def removeNode(self, node):\n",
    "        node.prev.next = node.next\n",
    "        node.next.prev = node.prev\n",
    "    def addToHead(self, node):\n",
    "        node.prev = self.head\n",
    "        node.next = self.head.next\n",
    "        self.head.next.prev = node\n",
    "        self.head.next = node\n",
    "    def moveToHead(self, node):\n",
    "        self.removeNode(node)\n",
    "        self.addToHead(node)"
   ]
  },
  {
   "cell_type": "markdown",
   "metadata": {},
   "source": [
    "## 分治链表排序"
   ]
  },
  {
   "cell_type": "code",
   "execution_count": 194,
   "metadata": {},
   "outputs": [],
   "source": [
    "class ListNode:\n",
    "     def __init__(self, val=0, next=None):\n",
    "         self.val = val\n",
    "         self.next = next"
   ]
  },
  {
   "cell_type": "code",
   "execution_count": 195,
   "metadata": {},
   "outputs": [],
   "source": [
    "class Solution:\n",
    "    def sortLinkList(self, head:Node):\n",
    "        def sortFunc(head, tail):\n",
    "            if not head:\n",
    "                return head\n",
    "            if head.next  == tail:\n",
    "                head.next = None\n",
    "                return head\n",
    "            slow = fast = head\n",
    "            while fast != tail:\n",
    "                slow = slow.next\n",
    "                fast = fast.next\n",
    "                if fast != tail:\n",
    "                    fast = fast.next\n",
    "            mid = slow\n",
    "            return merge(sortFunc(head,mid)),sortFunc(mid, tail)\n",
    "        def merge(head:ListNode,tail:ListNode):\n",
    "            dummyHead = ListNode(0)\n",
    "            temp, temp1, temp2 = dummyHead, head, tail\n",
    "            while temp1 and temp2:\n",
    "                if temp1.val <= temp2.val:\n",
    "                    temp.next=temp1\n",
    "                    temp1=temp1.next\n",
    "                else:\n",
    "                    temp.next = temp2\n",
    "                    temp2 = temp2.next\n",
    "            if temp1:\n",
    "                temp.next = temp1\n",
    "            if temp2:\n",
    "                temp.next = temp2\n",
    "            return dummyHead.next\n",
    "    #合并升序链表\n",
    "    def mergeKLists(self,lists):\n",
    "        if not lists:\n",
    "            return\n",
    "        n =len(lists)\n",
    "        return self.merge(lists, 0, n-1)\n",
    "    def merge(self,lists, l ,r):\n",
    "        if l == r:\n",
    "            return lists[l]\n",
    "        mid = l+r//2\n",
    "        l1 = self.merge(lists,l,mid)\n",
    "        l2 = self.merge(lists, mid+1, r)\n",
    "        return self.mergeTwoLists(l1,l2)\n",
    "    def mergeTwoLists(self, l1, l2):\n",
    "        if not l1:\n",
    "            return l2\n",
    "        if not l2:\n",
    "            return l1\n",
    "        if l1.val<l2.val:\n",
    "            l1.next=self.mergeTwoLists(l1.next, l2)\n",
    "            return l1\n",
    "        else:\n",
    "            l2.next =self.mergeTwoLists(l2.next, l1)\n",
    "            return l2\n",
    "    #两两交换链表节点\n",
    "    def swapPairs(self, head):\n",
    "        if not head or not head.next:\n",
    "            return head\n",
    "        dummyHead = ListNode(0)\n",
    "        dummyHead.next = head\n",
    "        temp = dummyHead\n",
    "        while temp.next and temp.next.next:\n",
    "            node1 = temp.next\n",
    "            node2 = temp.next.next\n",
    "            temp.next = node2\n",
    "            node1.next = node2.next\n",
    "            node2.next = node1\n",
    "            temp = node1\n",
    "        return dummyHead.next\n",
    "    def swapPairs(self, head):\n",
    "        if not head:\n",
    "            return []\n",
    "        if not head.next:\n",
    "            return head\n",
    "        newHead = head.next\n",
    "        head.next=self.swapPairs(newHead.next)\n",
    "        newHead.next = head\n",
    "        return newHead\n",
    "    #K个一组翻转链表\n",
    "    def reverseKGroup(self, head, k):\n",
    "        dummyHead = ListNode(0)\n",
    "        dummyHead.next = head\n",
    "        pre = dummyHead\n",
    "        while head:\n",
    "            tail = pre\n",
    "            for i in range(k):\n",
    "                tail =tail.next\n",
    "                if not tail:\n",
    "                    return dummyHead.next\n",
    "            nex = tail.next\n",
    "            head, tail = self.reverse(head,tail)\n",
    "            pre.next = head\n",
    "            tail.next = nex\n",
    "            pre = tail\n",
    "            head = tail.next\n",
    "        return dummyHead.next\n",
    "    def reverse(self,head, tail):\n",
    "        prev = tail.next\n",
    "        p = head\n",
    "        while prev != tail:\n",
    "            nex = p.next\n",
    "            p.next = prev\n",
    "            prev = p\n",
    "            p =nex\n",
    "        return tail, head"
   ]
  },
  {
   "cell_type": "markdown",
   "metadata": {},
   "source": [
    "### 统一直线上最多的点数\n",
    "编程练习，没什么算法"
   ]
  },
  {
   "cell_type": "code",
   "execution_count": 197,
   "metadata": {},
   "outputs": [],
   "source": [
    "class Solution: \n",
    "    def maxPoints(points):\n",
    "        n = len(points)\n",
    "        if (n<=2):\n",
    "            return n\n",
    "        ans = 0\n",
    "        for i in range(n):\n",
    "            if (ans>n-i):\n",
    "                return ans\n",
    "            map = dict()\n",
    "            for j in range(i+1,n):\n",
    "                x = points[i][0] - points[j][0]\n",
    "                y = points[i][1] - points[j][1]\n",
    "                if (x==0):\n",
    "                    y = 1\n",
    "                elif (y==0):\n",
    "                    x =1\n",
    "                else:\n",
    "                    if y<0:\n",
    "                        x = -x\n",
    "                        y = -y\n",
    "    def gcd(a,b):\n",
    "        if b != 0:\n",
    "            return b \n",
    "        else:\n",
    "            return a\n",
    "    #Continue....."
   ]
  },
  {
   "cell_type": "code",
   "execution_count": 219,
   "metadata": {},
   "outputs": [],
   "source": [
    "class Solution:\n",
    "    def invPolandoperator(tokens):\n",
    "        stack = list()\n",
    "        for i in range(len(tokens)):\n",
    "            newIte = tokens[i]\n",
    "            try:\n",
    "                int(tokens[i])\n",
    "            except ValueError:\n",
    "                num2 = stack.pop()\n",
    "                num1 = stack.pop()\n",
    "                if(newIte == \"+\"):\n",
    "                    ret = num1 + num2\n",
    "                elif(newIte == \"-\"):\n",
    "                    ret = num1-num2\n",
    "                elif(newIte == \"*\"):\n",
    "                    ret = num1 * num2\n",
    "                elif(newIte == \"/\"):\n",
    "                    ret = int(num1/num2)\n",
    "                stack.append(ret)\n",
    "        return stack.pop()\n"
   ]
  },
  {
   "cell_type": "code",
   "execution_count": 245,
   "metadata": {},
   "outputs": [],
   "source": [
    "#轮转数组--反转数组法\n",
    "class Solution:\n",
    "    def rotate(self,nums, k):\n",
    "        k %= len(nums)\n",
    "        self.reverse(nums,0,len(nums)-1)\n",
    "        self.reverse(nums, 0, k-1)\n",
    "        self.reverse(nums,k,len(nums)-1)\n",
    "    def reverse(self,nums, start, end):\n",
    "        while (start<end):\n",
    "            temp = nums[start]\n",
    "            nums[start] = nums[end]\n",
    "            nums[end] =temp\n",
    "            start += 1\n",
    "            end -=1"
   ]
  },
  {
   "cell_type": "code",
   "execution_count": null,
   "metadata": {},
   "outputs": [],
   "source": [
    "#重复的DNA重复序列\n",
    "L = 10\n",
    "bin = {'A':0,'C':1, 'G':2, 'T':3}\n",
    "class Solution():\n",
    "    def hashMethod(self, s):\n",
    "        ans = []\n",
    "        map = dict()\n",
    "        for i in range(len(s)-10+1):\n",
    "            sub = s[i:i+10]\n",
    "            map[sub] +=1\n",
    "            if map[sub] == 2:\n",
    "                ans.append(sub)\n",
    "        return s\n",
    "    #利用位运算将判断子序列是否位于map中的复杂度降为O(1)\n",
    "    def hashBitMethod(self,s):\n",
    "        n = len(s)\n",
    "        if n <= L:\n",
    "            return []\n",
    "        ans = []\n",
    "        x = 0\n",
    "        for ch in s[:L-1]:\n",
    "            x = (x<<2) | bin[ch]\n",
    "        map = dict()\n",
    "        for i in range(n-L+1):\n",
    "            x = ((x<<2) | bin[s[i+L-1]]) & ((1<<(L*2)) -1 )\n",
    "            # x 向右移动两位，添加的bit为s[i+l-1] \n",
    "            map[x] += 1\n",
    "            if map[x] == 2:\n",
    "                ans.append(s[i:i+L])\n",
    "        return ans"
   ]
  },
  {
   "cell_type": "code",
   "execution_count": 89,
   "metadata": {},
   "outputs": [],
   "source": [
    "class Solution:\n",
    "    #二叉树最大路径和\n",
    "    def __init__(self):\n",
    "        self.maxSum = float('-inf')\n",
    "    def findMaxsum(self, root):\n",
    "        def maxGain(self, node):\n",
    "            if not node:\n",
    "                return 0\n",
    "            leftGain = max(maxGain(node.left,0))\n",
    "            rightGain = max(maxGain(node.right,0))\n",
    "            priceNewpath = node.val + leftGain  + rightGain\n",
    "            self.maxSum = max(self.maxSum, priceNewpath)\n",
    "            return node.val + max(leftGain,rightGain)\n",
    "        maxGain(root)\n",
    "        return self.maxSum\n",
    "    #填充右侧指针\n",
    "    def bfs(self, root):\n",
    "        if not root:\n",
    "            return None\n",
    "        dq =[root]\n",
    "        while dq:\n",
    "            size = len(dq)\n",
    "            tail = None\n",
    "            for i in range(size): \n",
    "                cnt_node = dq.pop(0)\n",
    "                if tail:\n",
    "                    tail.next = cnt_node\n",
    "                tail = cnt_node\n",
    "                if cnt_node.left:\n",
    "                    dq.append(cnt_node.left)\n",
    "                if cnt_node.right:\n",
    "                    dq.append(cnt_node.right)\n",
    "        return root \n",
    "    #路径总和\n",
    "    def findTarget(self, root, targetSum):\n",
    "        ret = []\n",
    "        path =[]\n",
    "        def dfs(node, targetSum):\n",
    "            if not node:\n",
    "                return\n",
    "            path.append(node.val)\n",
    "            targetSum -= node.val\n",
    "            if not root.left and not root.right and targetSum==0:\n",
    "                ret.append(path[:])\n",
    "            dfs(root.left,targetSum)\n",
    "            dfs(root.right, targetSum)\n",
    "            path.pop() \n",
    "        dfs(root, targetSum)   \n",
    "        return root \n",
    "    #单词组合 \n",
    "    def wordBreak(self, s: str, wordDict: List[str]) -> bool:\n",
    "        record = dict()\n",
    "        map = dict()\n",
    "        lens = []\n",
    "        for word in wordDict:\n",
    "            map[word] = 1\n",
    "            lens.append(len(word))\n",
    "        def dfs(s, wordDict):\n",
    "            if s == \"\":\n",
    "                return True\n",
    "            for length in lens:\n",
    "                if (s[0:length] in map and len(s[length:]) not in record ):\n",
    "                    if (dfs(s[length:],wordDict)):\n",
    "                        return True\n",
    "                    record[len(s[length:])] = 1\n",
    "            return False\n",
    "        return dfs(s,wordDict)    "
   ]
  },
  {
   "cell_type": "code",
   "execution_count": 123,
   "metadata": {},
   "outputs": [],
   "source": [
    "#链表\n",
    "class Solution:\n",
    "    def addTwoNumbers(l1,l2):\n",
    "        carry = 0\n",
    "        dummyhead = ListNode(0)\n",
    "        prevNode = dummyhead\n",
    "        while l1 or l2:\n",
    "            if  not l1:\n",
    "                n1 = 0\n",
    "                n2 = l2.val\n",
    "            elif not l2:\n",
    "                n2 = 0\n",
    "                n1 = l1.val\n",
    "            else:\n",
    "                n1 = l1.val\n",
    "                n2 = l2.val\n",
    "            ret = (n1 + n2 + carry) %10 + carry\n",
    "            carry = (n1+n2+carry) / 10\n",
    "            prevNode.next = ListNode(ret)\n",
    "            prevNode = prevNode.next\n",
    "            if l1.next:\n",
    "                l1 = l1.next\n",
    "            else:\n",
    "                l1 = None\n",
    "            if l2.next:\n",
    "                l2 = l2.next\n",
    "            else:\n",
    "                l2 = None\n",
    "        if carry == 1:\n",
    "            prevNode.next = ListNode(1)\n",
    "        return dummyhead.next\n"
   ]
  },
  {
   "cell_type": "code",
   "execution_count": 366,
   "metadata": {},
   "outputs": [],
   "source": [
    "#字符串\n",
    "class Solution:\n",
    "    def findLongestString(self,s):\n",
    "        right = 0\n",
    "        length= len(s)\n",
    "        left = 0\n",
    "        cntmap = set()\n",
    "        maxLength = 0\n",
    "        while left < length:          \n",
    "            while right < length:\n",
    "                if s[right] not in cntmap:\n",
    "                    cntmap.add(s[right])\n",
    "                    maxLength = max(len(cntmap),maxLength)\n",
    "                    right = right + 1\n",
    "                    #print(cntmap)\n",
    "                else:\n",
    "                    break\n",
    "            cntmap.remove(s[left])\n",
    "            left +=1\n",
    "        return maxLength\n",
    "#有效的括号\n",
    "    def isValid(self, s):\n",
    "        if len(s) %2 ==1:\n",
    "            return False\n",
    "        pairs = {\n",
    "            \")\":\"(\",\n",
    "            \"]\":\"[\",\n",
    "            \"}\":\"{\"\n",
    "        }\n",
    "        stack = list()\n",
    "        for ch in s:\n",
    "            if ch in pairs:\n",
    "                if not stack or stack[-1]!=pairs[ch]:\n",
    "                    return False\n",
    "                stack.pop()\n",
    "            else:\n",
    "                stack.append(ch)\n",
    "        return not stack\n"
   ]
  },
  {
   "cell_type": "code",
   "execution_count": 368,
   "metadata": {},
   "outputs": [
    {
     "data": {
      "text/plain": [
       "'babab'"
      ]
     },
     "execution_count": 368,
     "metadata": {},
     "output_type": "execute_result"
    }
   ],
   "source": [
    "s = Solution()\n",
    "s.longestPalindrome(\"babab\")"
   ]
  },
  {
   "cell_type": "code",
   "execution_count": 348,
   "metadata": {},
   "outputs": [
    {
     "data": {
      "text/plain": [
       "'ab'"
      ]
     },
     "execution_count": 348,
     "metadata": {},
     "output_type": "execute_result"
    }
   ],
   "source": [
    "s = \"abcdef\"\n",
    "s[0:2]"
   ]
  },
  {
   "cell_type": "code",
   "execution_count": null,
   "metadata": {},
   "outputs": [],
   "source": [
    "#二分查找\n",
    "class Solution:\n",
    "    def findMedian(self, nums1, nums2):\n",
    "        def getKthElement(k):\n",
    "            index1 = 0\n",
    "            index2 = 0\n",
    "            while True:\n",
    "                if index1 == m:\n",
    "                    return nums2[index2+k-1]\n",
    "                if index2 == n :\n",
    "                    return nums1[index1+k-1]\n",
    "                if k == 1:\n",
    "                    return min(nums1[index1],nums2[index2])\n",
    "                newIndex1 = min(index1+k//2-1,m-1)\n",
    "                newIndex2 = min(index2+k//2-1,n-1)\n",
    "                pivot1, pivot2 = nums[newIndex1], nums[newIndex2]\n",
    "                if pivot1 < pivot2:\n",
    "                    k-=newIndex1 - index1 + 1\n",
    "                    index1 = newIndex1+1\n",
    "                else:\n",
    "                    k-=newIndex2-index2 +1\n",
    "                    index2 =newIndex2+1\n",
    "        m, n = len(nums1), len(nums2)\n",
    "        totalLength = m+n\n",
    "        if totalLength % 2 == 1:\n",
    "            return getKthElement((totalLength+1)//2)\n",
    "        else:\n",
    "            return (getKthElement(totalLength//2) + getKthElement(totalLength//2+1))/2\n",
    "#二分查找两数相除\n",
    "    def divide(self, dividend,divisor):\n",
    "        INT_MIN, INT_MAX = -2**31, 2**31-1\n",
    "        #考虑被除数为最小值的情况\n",
    "        if dividend == INT_MIN:\n",
    "            if divisor == 1:\n",
    "                return INT_MIN\n",
    "            if divisor == -1:\n",
    "                return INT_MAX\n",
    "        #考虑除数为最小值的情况\n",
    "        if divisor == INT_MIN:\n",
    "            return 1 \n",
    "        if dividend <0 and divisor<0 or dividend>0 and divisor>0:\n",
    "            neg = False\n",
    "        else:\n",
    "            ned = True\n",
    "        mid"
   ]
  },
  {
   "cell_type": "code",
   "execution_count": 277,
   "metadata": {},
   "outputs": [],
   "source": [
    "#Z字体\n",
    "class Solution:\n",
    "    def Zmatrix(self, s, numRows):\n",
    "        n, r = len(s), numRows\n",
    "        ans=[]\n",
    "        if r == 1 or n <= r:\n",
    "            return s\n",
    "        for i in range(r):\n",
    "            j = i\n",
    "            if (i==0 or i == r-1):\n",
    "                while j <n:\n",
    "                    ans.append(s[j])\n",
    "                    j += 2*r-2\n",
    "            else:\n",
    "                while j <n:\n",
    "                    ans.append(s[j])\n",
    "                    j += 2*r-2-2*i\n",
    "                    if j< n:\n",
    "                        ans.append(s[j])\n",
    "                    j+=  2*i\n",
    "        return \"\".join(ans)                 \n"
   ]
  },
  {
   "cell_type": "code",
   "execution_count": 306,
   "metadata": {},
   "outputs": [],
   "source": [
    "def reverInteger(x):\n",
    "    new_num=0\n",
    "    neg =False\n",
    "    if x < 0:\n",
    "        neg = True\n",
    "        x= -x\n",
    "    while x >0:\n",
    "        t= x%10\n",
    "        x = x//10\n",
    "        new_num = new_num*10+t\n",
    "    if neg:\n",
    "        new_num = -new_num\n",
    "        if new_num<-2**31:\n",
    "            return 0\n",
    "        else:\n",
    "            return new_num\n",
    "    else:\n",
    "        if new_num>=2**31+1:\n",
    "            return 0\n",
    "        else:\n",
    "            return new_num\n"
   ]
  },
  {
   "cell_type": "code",
   "execution_count": 299,
   "metadata": {},
   "outputs": [],
   "source": [
    "class Solution:\n",
    "    def rightsideViews_dfs(self,root):\n",
    "        rightmost_values_at_depth = dict()\n",
    "        max_depth = -1\n",
    "        stack = [(root,0)]\n",
    "        while stack:\n",
    "            node ,depth = stack.pop()\n",
    "            if node:\n",
    "                max_depth = max(max_depth,depth)\n",
    "                rightmost_values_at_depth.setdefault(depth,node.val)\n",
    "                stack.append((node.left,depth+1))\n",
    "                stack.append((node.right,depth+1))\n",
    "        return [rightmost_values_at_depth[depth] for depth in range(max_depth+1)]\n",
    "    def rightsideViews_bfs(self,root):\n",
    "        rightmost_values_at_depth = dict()\n",
    "        max_depth = -1\n",
    "        stack = [(root,0)]\n",
    "        while stack:\n",
    "            node, depth = stack.pop()\n",
    "            if node:\n",
    "                max_depth = max(max_depth,depth)\n",
    "                rightmost_values_at_depth[depth] = node.val\n",
    "                stack.append((node.right,depth+1))\n",
    "                stack.append((node.left,depth+1))\n",
    "        return [rightmost_values_at_depth[depth] for depth in range(max_depth+1)]\n",
    "    def thiefDP(self,nums):\n",
    "        if not nums:\n",
    "            return 0\n",
    "        elif len(nums) == 1:\n",
    "            return nums[0]\n",
    "        ans = [0]*len(nums)\n",
    "        ans[0] = nums[0]\n",
    "        ans[1] = max(nums[1],nums[0])\n",
    "        for i in range(2,len(nums)):\n",
    "            ans[i] = max(ans[i-1],ans[i-2]+nums[i])\n",
    "        return ans[-1]\n",
    "    def island_dfs(self,matrix):\n",
    "        m = len(matrix)\n",
    "        n = len(matrix[0])\n",
    "        ans = 0\n",
    "        visited = [0]\n",
    "        for i in range(m):\n",
    "            for j in range(n):\n",
    "                if visited[i][j]==0 and matrix[i][j]==1:\n",
    "                    \"watiign\"\n",
    "            "
   ]
  },
  {
   "cell_type": "code",
   "execution_count": 532,
   "metadata": {},
   "outputs": [],
   "source": [
    "nums = [[1,1,0,0,0],\n",
    "        [1,1,0,0,0],\n",
    "        [0,0,1,0,0],\n",
    "        [0,0,0,1,1]]"
   ]
  },
  {
   "cell_type": "code",
   "execution_count": 56,
   "metadata": {},
   "outputs": [],
   "source": [
    "nums = [[\"1\",\"1\",\"1\",\"1\",\"0\"],[\"1\",\"1\",\"0\",\"1\",\"0\"],[\"1\",\"1\",\"0\",\"0\",\"0\"],[\"0\",\"0\",\"0\",\"0\",\"0\"]]"
   ]
  },
  {
   "cell_type": "code",
   "execution_count": 55,
   "metadata": {},
   "outputs": [],
   "source": [
    "class Solution:\n",
    "    def numIslands(self,grid):\n",
    "        ans = []\n",
    "        visited = [[0] * len(grid[0]) for _ in range(len(grid))]\n",
    "        for i in range(len(grid)):\n",
    "            for j in range(len(grid[0])):\n",
    "                if visited[i][j] ==0 and grid[i][j]==\"1\":\n",
    "                    ng = self.dfs_findNG(grid,visited,i,j)\n",
    "                    ans.append(ng)\n",
    "        return len(ans)\n",
    "    def dfs_findNG(self,matrix,visited,i,j):\n",
    "        m = len(matrix)\n",
    "        n = len(matrix[0])\n",
    "        dq = deque([[i,j]])\n",
    "        size = len(dq)\n",
    "        ans = []\n",
    "        while dq:\n",
    "            for _ in range(size):\n",
    "                pos = dq.popleft()\n",
    "                if visited[pos[0]][pos[1]] == 0:\n",
    "                    ans.append(pos)\n",
    "                    visited[pos[0]][pos[1]] = 1\n",
    "                temp = pos.copy()\n",
    "                while temp[0]-1>=0 and visited[temp[0]-1][temp[1]] == 0 and matrix[temp[0]-1][temp[1]] == \"1\":\n",
    "                    visited[temp[0]-1][temp[1]] = 1\n",
    "                    ans.append([temp[0]-1,temp[1]])\n",
    "                    dq.append([temp[0]-1,temp[1]])\n",
    "                    temp[0]-=1   \n",
    "                temp = pos.copy()\n",
    "                while temp[1]-1>=0 and visited[temp[0]][temp[1]-1] == 0 and matrix[temp[0]][temp[1]-1] == \"1\":\n",
    "                    visited[temp[0]][temp[1]-1] = 1\n",
    "                    ans.append([temp[0],temp[1]-1])\n",
    "                    dq.append([temp[0],temp[1]-1])\n",
    "                    temp[1]-=1\n",
    "                temp = pos.copy()\n",
    "                while temp[0]+1<m and visited[temp[0]+1][temp[1]] == 0 and matrix[temp[0]+1][temp[1]] == \"1\":\n",
    "                    visited[temp[0]+1][temp[1]] = 1\n",
    "                    ans.append([temp[0]+1,temp[1]])\n",
    "                    dq.append([temp[0]+1,temp[1]])\n",
    "                    temp[0]+=1\n",
    "                temp = pos.copy()\n",
    "                while temp[1]+1<n and visited[temp[0]][temp[1]+1] == 0 and matrix[temp[0]][temp[1]+1] == \"1\":\n",
    "                    visited[temp[0]][temp[1]+1] = 1\n",
    "                    ans.append([temp[0],temp[1]+1])\n",
    "                    dq.append([temp[0],temp[1]+1])\n",
    "                    temp[1]+=1\n",
    "        return ans\n",
    "    def numIslands_2(self, grid):\n",
    "        rows = len(nums)\n",
    "        columns = len(nums[0])\n",
    "        numIslands = 0\n",
    "        for i in range(len(nums)):\n",
    "            for j in range(len(nums[0])):\n",
    "                if grid[i][j] == \"1\":\n",
    "                    numIslands+=1\n",
    "                    self.dfs_Matrix_2(grid,i,j)\n",
    "    def dfs_Matrix_2(self, grid,i ,j):\n",
    "        rows = len(nums)\n",
    "        columns = len(nums[0])\n",
    "        grid[i][j]=0\n",
    "        for x, y in [[i-1,j],[i+1,j],[i,j-1],[i,j+1]]:\n",
    "            if 0<=x<rows and 0<=y<columns and grid[x][y] == \"1\":\n",
    "                self.dfs_Matrix_2(grid,x,y)\n",
    "    def bfs_Matrix(self, grid):\n",
    "        rows = len(grid)\n",
    "        columns = len(grid[0])\n",
    "        numIslands = 0\n",
    "        for i in range(rows):\n",
    "            for j in range(columns):\n",
    "                if grid[i][j] == \"1\":\n",
    "                    numIslands += 1\n",
    "                    dq=deque([[i,j]])\n",
    "                    grid[i][j] = \"0\"\n",
    "                    while dq:\n",
    "                        size = len(dq)\n",
    "                        for _ in range(size):\n",
    "                            root = dq.popleft()\n",
    "                            for  x, y in [[root[0]-1,root[1]],[root[0]+1,root[1]],[root[0],root[1]-1],[root[0],root[1]+1]]:\n",
    "                                if 0<=x<rows and 0<=y<columns and grid[x][y] == \"1\":\n",
    "                                    grid[x][y] = \"0\"\n",
    "                                    dq.append([x,y])\n",
    "        return numIslands "
   ]
  },
  {
   "cell_type": "code",
   "execution_count": 57,
   "metadata": {},
   "outputs": [
    {
     "data": {
      "text/plain": [
       "1"
      ]
     },
     "execution_count": 57,
     "metadata": {},
     "output_type": "execute_result"
    }
   ],
   "source": [
    "#检查链表中是否存在环\n",
    "class Soluiton:\n",
    "    def isHappy(self, n):\n",
    "        def get_next(n):\n",
    "            total_sum = 0\n",
    "            while n > 0:\n",
    "                n ,digit = divmod(n,10)\n",
    "                total_sum += digit**2\n",
    "            return total_sum\n",
    "        map = set()\n",
    "        while n != 1 and n not in map:\n",
    "            map.add(n)\n",
    "            n=get_next(n)\n",
    "        return n == 1\n",
    "    def  isHappy_2(self, n):\n",
    "        def get_next(number):\n",
    "            total_sum = 0\n",
    "            while number >0:\n",
    "                number, digit = divmod(number ,10)\n",
    "                total_sum += digit **2\n",
    "            return total_sum\n",
    "        slow_runner = n\n",
    "        fast_runner = get_next(n)\n",
    "        while fast_runner != 1 and slow_runner != fast_runner:\n",
    "            slow_runner = get_next(slow_runner)\n",
    "            fast_runner = get_next(get_next(fast_runner))\n",
    "        return fast_runner==1\n",
    "    def deleteIte(self, head, val):\n",
    "        dummyHead = Node()\n",
    "        dummyHead.next = head\n",
    "        temp = dummyHead\n",
    "        while temp.next:\n",
    "            if temp.next.val == val:\n",
    "                temp.next = dummyHead.next.next\n",
    "            else:\n",
    "                temp = temp.next\n",
    "        return dummyHead.next"
   ]
  },
  {
   "cell_type": "code",
   "execution_count": 60,
   "metadata": {},
   "outputs": [],
   "source": [
    "# 寻找峰值元素\n",
    "class Solution:\n",
    "    def findPeakewlement(self, nums):\n",
    "        n = len(nums)\n",
    "        def get(i):\n",
    "            if i == -1 or i == n:\n",
    "                return float('-inf')\n",
    "            return nums[i]\n",
    "        left, right, ans = 0, n-1, -1\n",
    "        while left < right:\n",
    "            mid = (left+right)//2\n",
    "            if get(mid-1) < get(mid)>get(mid+1):\n",
    "                ans = mid\n",
    "                break\n",
    "            elif get(mid) < get(mid-1):\n",
    "                right = mid\n",
    "            else:\n",
    "                left = mid-1\n",
    "        return ans\n",
    " "
   ]
  },
  {
   "cell_type": "code",
   "execution_count": 64,
   "metadata": {},
   "outputs": [],
   "source": [
    "# 比较版本号\n",
    "class Solution:\n",
    "    def compareVersion(self, version1, version2):\n",
    "        n,m=len(version1), len(version2)\n",
    "        i, j = 0 ,0\n",
    "        while i < n or j < m:\n",
    "            x = 0\n",
    "            while i <n and version1[i] != '.':\n",
    "                x = x * 10 + ord(version1[i]) -ord('0')\n",
    "                i+=1\n",
    "            i+=1\n",
    "            y =0 \n",
    "            while j <m and version2[j]!='.':\n",
    "                y = y * 10 + ord(version2[j]) - ord('0')\n",
    "            if x != y:\n",
    "                return 1 if x > y else -1\n",
    "        return 0\n"
   ]
  },
  {
   "cell_type": "code",
   "execution_count": 7,
   "metadata": {},
   "outputs": [],
   "source": [
    "#双指针寻找有序数组的两数之和\n",
    "class Solution:\n",
    "    def twoSum(self, nums,target):\n",
    "        n  = len(nums)\n",
    "        left, right = 0 , n-1\n",
    "        while left < right:\n",
    "            sum = nums[left+1] + nums[right+1]\n",
    "            if (sum==target):\n",
    "             return [left, right]\n",
    "            elif(sum<target):\n",
    "                left = left+1\n",
    "            else:\n",
    "                right + right -1\n",
    "#双指针寻找无序数组的三数之和\n",
    "    def threeSum(self, nums, target):\n",
    "        n  = len(nums)\n",
    "        res=[]\n",
    "        if (not nums or n <3):\n",
    "            return []\n",
    "        nums.sort()\n",
    "        for i in range(n):\n",
    "            if nums[i]>0:\n",
    "                return res\n",
    "            if (i>0 and nums[i]==nums[i-1]):\n",
    "                continue\n",
    "            L = i+1\n",
    "            R = n-1\n",
    "            while L<R:\n",
    "                if(nums[i]+nums[L]+nums[R]==0):\n",
    "                    res.append([nums[i],nums[L],nums[R]])\n",
    "                    while L<R and nums[L]==nums[L+1]:\n",
    "                        L=L+1\n",
    "                    while L<R and nums[R]==nums[R+1]:\n",
    "                        R=R-1\n",
    "                    L=L+1\n",
    "                    R=R-1\n",
    "                elif nums[i] + nums[L] + nums[R] > 0:\n",
    "                    R = R-1\n",
    "                else: \n",
    "                    L =L+1\n",
    "        return res\n",
    "#双指针寻找无序数组的三数之和\n",
    "    def threeSum_2(self, nums, target):\n",
    "        n = len(nums)\n",
    "        res = None\n",
    "        if not sum or n<3:\n",
    "            return res\n",
    "        nums.sort()\n",
    "        for i in range(n):\n",
    "            if i>=0 and nums[i]==nums[i-1]:\n",
    "                continue\n",
    "            L = i +1\n",
    "            R = R-1\n",
    "            while L<R:\n",
    "                cnt = nums[i]+nums[L]+nums[R]\n",
    "                if cnt == target:\n",
    "                    res = target\n",
    "                    return res\n",
    "                elif cnt < target:\n",
    "                    if abs(target-cnt)<abs(target-res):\n",
    "                        ret = cnt\n",
    "                        L=L+1\n",
    "                else:\n",
    "                    if abs(target-cnt)<abs(target-res):\n",
    "                        ret = cnt\n",
    "                        R=R-1\n",
    "        return res\n",
    "#双指针删除链表的倒数第N个节点\n",
    "    def removeNthFromEnd(self, head, n):\n",
    "        dummyHead = ListNode(0,head)\n",
    "        fast = head\n",
    "        slow = head\n",
    "        for _ in range(n):\n",
    "            fast = fast.next\n",
    "        while fast.next:\n",
    "            fast = fast.next\n",
    "            slow = slow.next\n",
    "        slow.next = slow.next.next\n",
    "        return dummyHead.next\n",
    "    #双指针删除重复元素\n",
    "    def removeDump(self, nums):\n",
    "        if not nums:\n",
    "            return nums\n",
    "        n = len(nums)\n",
    "        slow = fast = 0 \n",
    "        while fast < n:\n",
    "            if nums[slow] != nums[fast]:\n",
    "                nums[slow+1] = nums[fast]\n",
    "                slow = slow +1\n",
    "            fast = fast+1\n",
    "        return slow+1\n"
   ]
  },
  {
   "cell_type": "code",
   "execution_count": 9,
   "metadata": {},
   "outputs": [
    {
     "data": {
      "text/plain": [
       "6"
      ]
     },
     "execution_count": 9,
     "metadata": {},
     "output_type": "execute_result"
    }
   ],
   "source": [
    "s = Solution()\n",
    "nums = [1,2,2,2,3,3,4,5,5,5,6]\n",
    "s.removeDump(nums)"
   ]
  },
  {
   "cell_type": "code",
   "execution_count": 102,
   "metadata": {},
   "outputs": [],
   "source": [
    "#反转链表\n",
    "class Solution:\n",
    "    def reverseList(self, head):\n",
    "        if head == None:\n",
    "            return head\n",
    "        elif head.next == None:\n",
    "            return head\n",
    "        self.reverseList(head.next).next = head\n",
    "    def reverseList_ite(self, head):\n",
    "        stack = list(head)\n",
    "        while head.next:\n",
    "            s = stack.pop()\n",
    "            s.next = head\n",
    "            stack.append(head)\n",
    "            head = head.next()\n",
    "        "
   ]
  },
  {
   "cell_type": "code",
   "execution_count": 114,
   "metadata": {},
   "outputs": [],
   "source": [
    "#埃及筛\n",
    "class Solution:\n",
    "    def countPrime(self,n):\n",
    "        isPrime = [True] * n\n",
    "        isPrime[0] = True\n",
    "        for i in range(2,n):\n",
    "            if isPrime[i]:\n",
    "                print(i)\n",
    "                for j in range(2*i,n,i):\n",
    "                    isPrime[j] = False\n",
    "        cnt = 0\n",
    "        for k in range(2,n):\n",
    "            if isPrime[k]:\n",
    "                cnt+=1\n",
    "        return cnt"
   ]
  },
  {
   "cell_type": "code",
   "execution_count": 2,
   "metadata": {},
   "outputs": [],
   "source": [
    "#回溯深度搜索\n",
    "class Solution:\n",
    "    def letterCombinations(self, digits):\n",
    "        phoneMap ={\n",
    "            \"2\":\"abc\",\n",
    "            \"3\":\"def\",\n",
    "            \"4\":\"ghi\",\n",
    "            \"5\":\"jkl\",\n",
    "            \"6\":\"mno\",\n",
    "            \"7\":'pqrs',\n",
    "            \"8\":\"tuv\",\n",
    "            \"9\":\"wxyz\"\n",
    "        }\n",
    "        comb = []\n",
    "        combs = []\n",
    "        def backtrack(index):\n",
    "            if index==len(digits):\n",
    "                combs.append(\"\".join(comb))\n",
    "            else:\n",
    "                digit = digits[index]\n",
    "                for letter in digit:\n",
    "                    comb.append(letter)\n",
    "                    backtrack(index+1)\n",
    "                    comb.pop()\n",
    "        backtrack(0)\n",
    "        return combs"
   ]
  },
  {
   "cell_type": "code",
   "execution_count": 416,
   "metadata": {},
   "outputs": [
    {
     "data": {
      "text/plain": [
       "[2]"
      ]
     },
     "execution_count": 416,
     "metadata": {},
     "output_type": "execute_result"
    }
   ],
   "source": []
  },
  {
   "cell_type": "code",
   "execution_count": 393,
   "metadata": {},
   "outputs": [
    {
     "data": {
      "text/plain": [
       "deque([1, 2, 3, 4])"
      ]
     },
     "execution_count": 393,
     "metadata": {},
     "output_type": "execute_result"
    }
   ],
   "source": [
    "from collections import deque\n",
    "list = deque((1,2,3,4))\n",
    "list"
   ]
  },
  {
   "cell_type": "code",
   "execution_count": 394,
   "metadata": {},
   "outputs": [
    {
     "data": {
      "text/plain": [
       "deque([1, 2, 3, 4, 5])"
      ]
     },
     "execution_count": 394,
     "metadata": {},
     "output_type": "execute_result"
    }
   ],
   "source": [
    "list.append(5)\n",
    "list"
   ]
  },
  {
   "cell_type": "code",
   "execution_count": 340,
   "metadata": {},
   "outputs": [
    {
     "data": {
      "text/plain": [
       "[1, 2]"
      ]
     },
     "execution_count": 340,
     "metadata": {},
     "output_type": "execute_result"
    }
   ],
   "source": [
    "list.popleft()"
   ]
  },
  {
   "cell_type": "code",
   "execution_count": 300,
   "metadata": {},
   "outputs": [
    {
     "data": {
      "text/plain": [
       "12"
      ]
     },
     "execution_count": 300,
     "metadata": {},
     "output_type": "execute_result"
    }
   ],
   "source": [
    "s = Solution()\n",
    "s.thiefDP([2,7,9,3,1])"
   ]
  },
  {
   "cell_type": "code",
   "execution_count": 291,
   "metadata": {},
   "outputs": [],
   "source": [
    "bin = {'A':0,'C':1, 'G':2, 'T':3}"
   ]
  },
  {
   "cell_type": "code",
   "execution_count": 294,
   "metadata": {},
   "outputs": [
    {
     "data": {
      "text/plain": [
       "{'A': 0, 'C': 1, 'G': 2, 'T': 3, 'D': 5}"
      ]
     },
     "execution_count": 294,
     "metadata": {},
     "output_type": "execute_result"
    }
   ],
   "source": [
    "bin.setdefault('D',6)\n",
    "bin"
   ]
  },
  {
   "cell_type": "code",
   "execution_count": null,
   "metadata": {},
   "outputs": [],
   "source": []
  },
  {
   "cell_type": "code",
   "execution_count": 261,
   "metadata": {},
   "outputs": [],
   "source": [
    "s = \"AAAAACCCCCAAAAACCCCCCAAAAAGGGTTT\""
   ]
  },
  {
   "cell_type": "code",
   "execution_count": 269,
   "metadata": {},
   "outputs": [],
   "source": [
    "for ch in s[:10-1]:\n",
    "     x = (x<<2) | bin[ch]"
   ]
  },
  {
   "cell_type": "code",
   "execution_count": 286,
   "metadata": {},
   "outputs": [
    {
     "data": {
      "text/plain": [
       "524288"
      ]
     },
     "execution_count": 286,
     "metadata": {},
     "output_type": "execute_result"
    }
   ],
   "source": [
    "1 << 20 -1"
   ]
  },
  {
   "cell_type": "code",
   "execution_count": 230,
   "metadata": {},
   "outputs": [],
   "source": [
    "l = [1,2,3,4,5,]\n"
   ]
  },
  {
   "cell_type": "code",
   "execution_count": 231,
   "metadata": {},
   "outputs": [],
   "source": [
    "order  = ord(\"0\")-ord(\"0\")"
   ]
  },
  {
   "cell_type": "code",
   "execution_count": 232,
   "metadata": {},
   "outputs": [
    {
     "data": {
      "text/plain": [
       "0"
      ]
     },
     "execution_count": 232,
     "metadata": {},
     "output_type": "execute_result"
    }
   ],
   "source": [
    "order"
   ]
  },
  {
   "cell_type": "code",
   "execution_count": 234,
   "metadata": {},
   "outputs": [
    {
     "data": {
      "text/plain": [
       "1"
      ]
     },
     "execution_count": 234,
     "metadata": {},
     "output_type": "execute_result"
    }
   ],
   "source": [
    "ord(\"1\")-ord(\"0\")"
   ]
  },
  {
   "cell_type": "code",
   "execution_count": null,
   "metadata": {},
   "outputs": [],
   "source": []
  }
 ],
 "metadata": {
  "interpreter": {
   "hash": "2fa6bf9bb5136793b4ac83d60f2ba177b62000748b0aea05fcbd9c4a34ed6830"
  },
  "kernelspec": {
   "display_name": "Python 3.7.7 ('tt')",
   "language": "python",
   "name": "python3"
  },
  "language_info": {
   "codemirror_mode": {
    "name": "ipython",
    "version": 3
   },
   "file_extension": ".py",
   "mimetype": "text/x-python",
   "name": "python",
   "nbconvert_exporter": "python",
   "pygments_lexer": "ipython3",
   "version": "3.7.7"
  },
  "orig_nbformat": 4
 },
 "nbformat": 4,
 "nbformat_minor": 2
}
